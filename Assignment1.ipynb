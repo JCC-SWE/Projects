{
 "cells": [
  {
   "cell_type": "markdown",
   "metadata": {},
   "source": [
    "# HM1: Logistic Regression.\n",
    "\n",
    "### Name: Joshua Cubero\n"
   ]
  },
  {
   "cell_type": "markdown",
   "metadata": {},
   "source": [
    "#### For this assignment, you will build 6 models. You need to train Logistic Regression/Regularized Logistic Regression each with Batch Gradient Descent, Stochastic Gradient Descent and Mini Batch Gradient Descent. Also, you should plot their objective values versus epochs and compare their training and testing accuracy. You will need to tune the parameters a little bit to obtain reasonable results.\n",
    "\n",
    "#### You do not have to follow the following procedure. You may implement your own functions and methods, but you need to show your results and plots."
   ]
  },
  {
   "cell_type": "code",
   "execution_count": 1,
   "metadata": {},
   "outputs": [],
   "source": [
    "# Load Packages\n",
    "import numpy as np\n",
    "import random as rnd\n",
    "import pandas as pd\n",
    "import matplotlib.pyplot as plt"
   ]
  },
  {
   "cell_type": "markdown",
   "metadata": {},
   "source": [
    "# 1. Data processing\n",
    "\n",
    "- Download the Breast Cancer dataset from canvas or from https://archive.ics.uci.edu/ml/datasets/breast+cancer+wisconsin+(diagnostic)\n",
    "- Load the data.\n",
    "- Preprocess the data."
   ]
  },
  {
   "cell_type": "markdown",
   "metadata": {},
   "source": [
    "## 1.1. Load the data"
   ]
  },
  {
   "cell_type": "code",
   "execution_count": 2,
   "metadata": {},
   "outputs": [
    {
     "data": {
      "text/html": [
       "<div>\n",
       "<style scoped>\n",
       "    .dataframe tbody tr th:only-of-type {\n",
       "        vertical-align: middle;\n",
       "    }\n",
       "\n",
       "    .dataframe tbody tr th {\n",
       "        vertical-align: top;\n",
       "    }\n",
       "\n",
       "    .dataframe thead th {\n",
       "        text-align: right;\n",
       "    }\n",
       "</style>\n",
       "<table border=\"1\" class=\"dataframe\">\n",
       "  <thead>\n",
       "    <tr style=\"text-align: right;\">\n",
       "      <th></th>\n",
       "      <th>id</th>\n",
       "      <th>diagnosis</th>\n",
       "      <th>radius_mean</th>\n",
       "      <th>texture_mean</th>\n",
       "      <th>perimeter_mean</th>\n",
       "      <th>area_mean</th>\n",
       "      <th>smoothness_mean</th>\n",
       "      <th>compactness_mean</th>\n",
       "      <th>concavity_mean</th>\n",
       "      <th>concave points_mean</th>\n",
       "      <th>...</th>\n",
       "      <th>texture_worst</th>\n",
       "      <th>perimeter_worst</th>\n",
       "      <th>area_worst</th>\n",
       "      <th>smoothness_worst</th>\n",
       "      <th>compactness_worst</th>\n",
       "      <th>concavity_worst</th>\n",
       "      <th>concave points_worst</th>\n",
       "      <th>symmetry_worst</th>\n",
       "      <th>fractal_dimension_worst</th>\n",
       "      <th>Unnamed: 32</th>\n",
       "    </tr>\n",
       "  </thead>\n",
       "  <tbody>\n",
       "    <tr>\n",
       "      <th>0</th>\n",
       "      <td>842302</td>\n",
       "      <td>M</td>\n",
       "      <td>17.99</td>\n",
       "      <td>10.38</td>\n",
       "      <td>122.80</td>\n",
       "      <td>1001.0</td>\n",
       "      <td>0.11840</td>\n",
       "      <td>0.27760</td>\n",
       "      <td>0.3001</td>\n",
       "      <td>0.14710</td>\n",
       "      <td>...</td>\n",
       "      <td>17.33</td>\n",
       "      <td>184.60</td>\n",
       "      <td>2019.0</td>\n",
       "      <td>0.1622</td>\n",
       "      <td>0.6656</td>\n",
       "      <td>0.7119</td>\n",
       "      <td>0.2654</td>\n",
       "      <td>0.4601</td>\n",
       "      <td>0.11890</td>\n",
       "      <td>NaN</td>\n",
       "    </tr>\n",
       "    <tr>\n",
       "      <th>1</th>\n",
       "      <td>842517</td>\n",
       "      <td>M</td>\n",
       "      <td>20.57</td>\n",
       "      <td>17.77</td>\n",
       "      <td>132.90</td>\n",
       "      <td>1326.0</td>\n",
       "      <td>0.08474</td>\n",
       "      <td>0.07864</td>\n",
       "      <td>0.0869</td>\n",
       "      <td>0.07017</td>\n",
       "      <td>...</td>\n",
       "      <td>23.41</td>\n",
       "      <td>158.80</td>\n",
       "      <td>1956.0</td>\n",
       "      <td>0.1238</td>\n",
       "      <td>0.1866</td>\n",
       "      <td>0.2416</td>\n",
       "      <td>0.1860</td>\n",
       "      <td>0.2750</td>\n",
       "      <td>0.08902</td>\n",
       "      <td>NaN</td>\n",
       "    </tr>\n",
       "    <tr>\n",
       "      <th>2</th>\n",
       "      <td>84300903</td>\n",
       "      <td>M</td>\n",
       "      <td>19.69</td>\n",
       "      <td>21.25</td>\n",
       "      <td>130.00</td>\n",
       "      <td>1203.0</td>\n",
       "      <td>0.10960</td>\n",
       "      <td>0.15990</td>\n",
       "      <td>0.1974</td>\n",
       "      <td>0.12790</td>\n",
       "      <td>...</td>\n",
       "      <td>25.53</td>\n",
       "      <td>152.50</td>\n",
       "      <td>1709.0</td>\n",
       "      <td>0.1444</td>\n",
       "      <td>0.4245</td>\n",
       "      <td>0.4504</td>\n",
       "      <td>0.2430</td>\n",
       "      <td>0.3613</td>\n",
       "      <td>0.08758</td>\n",
       "      <td>NaN</td>\n",
       "    </tr>\n",
       "    <tr>\n",
       "      <th>3</th>\n",
       "      <td>84348301</td>\n",
       "      <td>M</td>\n",
       "      <td>11.42</td>\n",
       "      <td>20.38</td>\n",
       "      <td>77.58</td>\n",
       "      <td>386.1</td>\n",
       "      <td>0.14250</td>\n",
       "      <td>0.28390</td>\n",
       "      <td>0.2414</td>\n",
       "      <td>0.10520</td>\n",
       "      <td>...</td>\n",
       "      <td>26.50</td>\n",
       "      <td>98.87</td>\n",
       "      <td>567.7</td>\n",
       "      <td>0.2098</td>\n",
       "      <td>0.8663</td>\n",
       "      <td>0.6869</td>\n",
       "      <td>0.2575</td>\n",
       "      <td>0.6638</td>\n",
       "      <td>0.17300</td>\n",
       "      <td>NaN</td>\n",
       "    </tr>\n",
       "    <tr>\n",
       "      <th>4</th>\n",
       "      <td>84358402</td>\n",
       "      <td>M</td>\n",
       "      <td>20.29</td>\n",
       "      <td>14.34</td>\n",
       "      <td>135.10</td>\n",
       "      <td>1297.0</td>\n",
       "      <td>0.10030</td>\n",
       "      <td>0.13280</td>\n",
       "      <td>0.1980</td>\n",
       "      <td>0.10430</td>\n",
       "      <td>...</td>\n",
       "      <td>16.67</td>\n",
       "      <td>152.20</td>\n",
       "      <td>1575.0</td>\n",
       "      <td>0.1374</td>\n",
       "      <td>0.2050</td>\n",
       "      <td>0.4000</td>\n",
       "      <td>0.1625</td>\n",
       "      <td>0.2364</td>\n",
       "      <td>0.07678</td>\n",
       "      <td>NaN</td>\n",
       "    </tr>\n",
       "  </tbody>\n",
       "</table>\n",
       "<p>5 rows × 33 columns</p>\n",
       "</div>"
      ],
      "text/plain": [
       "         id diagnosis  radius_mean  texture_mean  perimeter_mean  area_mean  \\\n",
       "0    842302         M        17.99         10.38          122.80     1001.0   \n",
       "1    842517         M        20.57         17.77          132.90     1326.0   \n",
       "2  84300903         M        19.69         21.25          130.00     1203.0   \n",
       "3  84348301         M        11.42         20.38           77.58      386.1   \n",
       "4  84358402         M        20.29         14.34          135.10     1297.0   \n",
       "\n",
       "   smoothness_mean  compactness_mean  concavity_mean  concave points_mean  \\\n",
       "0          0.11840           0.27760          0.3001              0.14710   \n",
       "1          0.08474           0.07864          0.0869              0.07017   \n",
       "2          0.10960           0.15990          0.1974              0.12790   \n",
       "3          0.14250           0.28390          0.2414              0.10520   \n",
       "4          0.10030           0.13280          0.1980              0.10430   \n",
       "\n",
       "   ...  texture_worst  perimeter_worst  area_worst  smoothness_worst  \\\n",
       "0  ...          17.33           184.60      2019.0            0.1622   \n",
       "1  ...          23.41           158.80      1956.0            0.1238   \n",
       "2  ...          25.53           152.50      1709.0            0.1444   \n",
       "3  ...          26.50            98.87       567.7            0.2098   \n",
       "4  ...          16.67           152.20      1575.0            0.1374   \n",
       "\n",
       "   compactness_worst  concavity_worst  concave points_worst  symmetry_worst  \\\n",
       "0             0.6656           0.7119                0.2654          0.4601   \n",
       "1             0.1866           0.2416                0.1860          0.2750   \n",
       "2             0.4245           0.4504                0.2430          0.3613   \n",
       "3             0.8663           0.6869                0.2575          0.6638   \n",
       "4             0.2050           0.4000                0.1625          0.2364   \n",
       "\n",
       "   fractal_dimension_worst  Unnamed: 32  \n",
       "0                  0.11890          NaN  \n",
       "1                  0.08902          NaN  \n",
       "2                  0.08758          NaN  \n",
       "3                  0.17300          NaN  \n",
       "4                  0.07678          NaN  \n",
       "\n",
       "[5 rows x 33 columns]"
      ]
     },
     "execution_count": 2,
     "metadata": {},
     "output_type": "execute_result"
    }
   ],
   "source": [
    "df = pd.read_csv('data.csv')\n",
    "df.head()"
   ]
  },
  {
   "cell_type": "markdown",
   "metadata": {},
   "source": [
    "## 1.2 Examine and clean data"
   ]
  },
  {
   "cell_type": "code",
   "execution_count": 3,
   "metadata": {},
   "outputs": [
    {
     "data": {
      "text/plain": [
       "id                           0\n",
       "diagnosis                    0\n",
       "radius_mean                  0\n",
       "texture_mean                 0\n",
       "perimeter_mean               0\n",
       "area_mean                    0\n",
       "smoothness_mean              0\n",
       "compactness_mean             0\n",
       "concavity_mean               0\n",
       "concave points_mean          0\n",
       "symmetry_mean                0\n",
       "fractal_dimension_mean       0\n",
       "radius_se                    0\n",
       "texture_se                   0\n",
       "perimeter_se                 0\n",
       "area_se                      0\n",
       "smoothness_se                0\n",
       "compactness_se               0\n",
       "concavity_se                 0\n",
       "concave points_se            0\n",
       "symmetry_se                  0\n",
       "fractal_dimension_se         0\n",
       "radius_worst                 0\n",
       "texture_worst                0\n",
       "perimeter_worst              0\n",
       "area_worst                   0\n",
       "smoothness_worst             0\n",
       "compactness_worst            0\n",
       "concavity_worst              0\n",
       "concave points_worst         0\n",
       "symmetry_worst               0\n",
       "fractal_dimension_worst      0\n",
       "Unnamed: 32                569\n",
       "dtype: int64"
      ]
     },
     "execution_count": 3,
     "metadata": {},
     "output_type": "execute_result"
    }
   ],
   "source": [
    "# Some columns may not be useful for the model (For example, the first column contains ID number which may be irrelavant). \n",
    "# You need to get rid of the ID number feature.\n",
    "# Also you should transform target labels in the second column from 'B' and 'M' to 1 and -1.\n",
    "df = df.replace({'M': 1,'B': -1})\n",
    "df.isna().sum()"
   ]
  },
  {
   "cell_type": "code",
   "execution_count": 4,
   "metadata": {},
   "outputs": [],
   "source": [
    "#Use of iloc and slicing leaves out ID column.\n",
    "X = np.array([df.iloc[:,2:32]]).reshape(569,30)\n",
    "y = np.array(df['diagnosis']).reshape(569,1)\n",
    "d = X.shape[1]"
   ]
  },
  {
   "cell_type": "markdown",
   "metadata": {},
   "source": [
    "## 1.3. Partition to training and testing sets"
   ]
  },
  {
   "cell_type": "code",
   "execution_count": 5,
   "metadata": {},
   "outputs": [],
   "source": [
    "# You can partition using 80% training data and 20% testing data. It is a commonly used ratio in machine learning.\n",
    "split = int(0.8*len(X))\n",
    "x_train, x_test = X[:split], X[split:]\n",
    "y_train, y_test = y[:split], y[split:]"
   ]
  },
  {
   "cell_type": "markdown",
   "metadata": {},
   "source": [
    "## 1.4. Feature scaling"
   ]
  },
  {
   "cell_type": "markdown",
   "metadata": {},
   "source": [
    "Use the standardization to transform both training and test features"
   ]
  },
  {
   "cell_type": "code",
   "execution_count": 6,
   "metadata": {},
   "outputs": [
    {
     "name": "stdout",
     "output_type": "stream",
     "text": [
      "test mean = \n",
      "[-0.15421396  0.36734644 -0.15216679 -0.13011779 -0.03764451 -0.06095979\n",
      " -0.15968807 -0.18264447 -0.20577445  0.11252658 -0.11462619  0.14746728\n",
      " -0.09472252 -0.06878809  0.08026941 -0.09071034 -0.08845148 -0.1073992\n",
      " -0.22935047 -0.02350692 -0.18689467  0.21990882 -0.1751222  -0.16131338\n",
      " -0.03903494 -0.1155415  -0.14820649 -0.19491169 -0.31065331 -0.01879552]\n",
      "test std = \n",
      "[1.02409598 1.20104314 1.02823038 1.05254889 1.12623735 0.8975497\n",
      " 0.92492381 0.93975209 0.84870282 1.0407246  1.11662724 1.16849856\n",
      " 1.10827607 1.35656254 1.01798397 0.78409753 0.6656818  0.94213695\n",
      " 0.67826598 0.75174437 0.98497496 1.06139417 1.00696616 1.02714708\n",
      " 0.95963507 0.82460324 0.90787878 0.89791033 0.72641788 0.89866581]\n"
     ]
    }
   ],
   "source": [
    "# Standardization\n",
    "import numpy\n",
    "\n",
    "# calculate mu and sig using the training set\n",
    "d = x_train.shape[1]\n",
    "mu = numpy.mean(x_train, axis=0).reshape(1, d)\n",
    "sig = numpy.std(x_train, axis=0).reshape(1, d)\n",
    "\n",
    "# transform the training features\n",
    "x_train = (x_train - mu) / (sig + 1E-6)\n",
    "\n",
    "# transform the test features\n",
    "x_test = (x_test - mu) / (sig + 1E-6)\n",
    "\n",
    "print('test mean = ')\n",
    "print(numpy.mean(x_test, axis=0))\n",
    "\n",
    "print('test std = ')\n",
    "print(numpy.std(x_test, axis=0))"
   ]
  },
  {
   "cell_type": "code",
   "execution_count": 7,
   "metadata": {},
   "outputs": [
    {
     "name": "stdout",
     "output_type": "stream",
     "text": [
      "(455, 30)\n",
      "(114, 30)\n"
     ]
    }
   ],
   "source": [
    "print(x_train.shape)\n",
    "print(x_test.shape)"
   ]
  },
  {
   "cell_type": "markdown",
   "metadata": {},
   "source": [
    "# 2.  Logistic Regression Model\n",
    "\n",
    "The objective function is $Q (w; X, y) = \\frac{1}{n} \\sum_{i=1}^n \\log \\Big( 1 + \\exp \\big( - y_i x_i^T w \\big) \\Big) + \\frac{\\lambda}{2} \\| w \\|_2^2 $.\n",
    "\n",
    "When $\\lambda = 0$, the model is a regular logistic regression and when $\\lambda > 0$, it essentially becomes a regularized logistic regression."
   ]
  },
  {
   "cell_type": "code",
   "execution_count": 8,
   "metadata": {},
   "outputs": [],
   "source": [
    "# Calculate the objective function value, or loss\n",
    "# Inputs:\n",
    "#     w: weight: d-by-1 matrix\n",
    "#     x: data: n-by-d matrix\n",
    "#     y: label: n-by-1 matrix\n",
    "#     lam: regularization parameter: scalar\n",
    "# Return:\n",
    "#     objective function value, or loss (scalar)\n",
    "def objective(w, x, y, lam):\n",
    "    wTx = np.dot(x,w)\n",
    "    z = np.multiply(y,wTx)\n",
    "    exp_z = 1 + np.exp(-z)\n",
    "    l_z = np.log(exp_z)\n",
    "    l2_reg = l_z + ((lam/2) * np.sum(w*w))\n",
    "    obj = np.mean(l2_reg)\n",
    "    return obj"
   ]
  },
  {
   "cell_type": "markdown",
   "metadata": {},
   "source": [
    "# 3. Numerical optimization"
   ]
  },
  {
   "cell_type": "markdown",
   "metadata": {},
   "source": [
    "## 3.1. Gradient descent\n"
   ]
  },
  {
   "cell_type": "markdown",
   "metadata": {},
   "source": [
    "The gradient at $w$ for regularized logistic regression is  $g = - \\frac{1}{n} \\sum_{i=1}^n \\frac{y_i x_i }{1 + \\exp ( y_i x_i^T w)} + \\lambda w$"
   ]
  },
  {
   "cell_type": "code",
   "execution_count": 9,
   "metadata": {},
   "outputs": [],
   "source": [
    "# Calculate the gradient\n",
    "# Inputs:\n",
    "#     w: weight: d-by-1 matrix\n",
    "#     x: data: n-by-d matrix\n",
    "#     y: label: n-by-1 matrix\n",
    "#     lam: regularization parameter: scalar\n",
    "# Return:\n",
    "#     g: gradient: d-by-1 matrix\n",
    "\n",
    "def gradient(w,x,y,lam):\n",
    "    n,d = x.shape\n",
    "    yx = np.multiply(y,x)\n",
    "    wTx = np.dot(x,w)\n",
    "    z = np.multiply(y,wTx)\n",
    "    denominator = 1 + np.exp(z)\n",
    "    quotient = (-yx)/denominator     \n",
    "    g = np.mean(quotient,axis=0).reshape(d,1) + (lam*w) \n",
    "    return g"
   ]
  },
  {
   "cell_type": "code",
   "execution_count": 10,
   "metadata": {},
   "outputs": [],
   "source": [
    "# Gradient descent for solving logistic regression\n",
    "# You will need to do iterative processes (loops) to obtain optimal weights in this function\n",
    "\n",
    "# Inputs:\n",
    "#     x: data: n-by-d matrix\n",
    "#     y: label: n-by-1 matrix\n",
    "#     lam: scalar, the regularization parameter\n",
    "#     learning_rate: scalar\n",
    "#     w: weights: d-by-1 matrix, initialization of w\n",
    "#     max_epoch: integer, the maximal epochs\n",
    "# Return:\n",
    "#     w: weights: d-by-1 matrix, the solution\n",
    "#     objvals: a record of each epoch's objective value\n",
    "\n",
    "def gradient_descent(x, y, lam, learning_rate, w = None, max_epoch=100):\n",
    "    if w == None:\n",
    "        w = np.zeros((x.shape[1],1))\n",
    "    obj_vals = np.zeros(max_epoch)\n",
    "    \n",
    "    for i in range(max_epoch):\n",
    "        obj = objective(w,x,y,lam)\n",
    "        obj_vals[i] = obj\n",
    "        gd = gradient(w,x,y,lam)\n",
    "        w -= learning_rate * gd\n",
    "    return w, obj_vals"
   ]
  },
  {
   "cell_type": "markdown",
   "metadata": {},
   "source": [
    "Use gradient_descent function to obtain your optimal weights and a list of objective values over each epoch."
   ]
  },
  {
   "cell_type": "code",
   "execution_count": 11,
   "metadata": {},
   "outputs": [],
   "source": [
    "# Train logistic regression\n",
    "# You should get the optimal weights and a list of objective values by using gradient_descent function.\n",
    "wbgd, obj_1 = gradient_descent(x_train,y_train,0,0.1)"
   ]
  },
  {
   "cell_type": "code",
   "execution_count": 12,
   "metadata": {},
   "outputs": [],
   "source": [
    "# Train regularized logistic regression\n",
    "# You should get the optimal weights and a list of objective values by using gradient_descent function.\n",
    "l2_wbgd, obj_2 = gradient_descent(x_train,y_train,0.1,0.1)"
   ]
  },
  {
   "cell_type": "markdown",
   "metadata": {},
   "source": [
    "## 3.2. Stochastic gradient descent (SGD)\n",
    "\n",
    "Define new objective function $Q_i (w) = \\log \\Big( 1 + \\exp \\big( - y_i x_i^T w \\big) \\Big) + \\frac{\\lambda}{2} \\| w \\|_2^2 $. \n",
    "\n",
    "The stochastic gradient at $w$ is $g_i = \\frac{\\partial Q_i }{ \\partial w} = -\\frac{y_i x_i }{1 + \\exp ( y_i x_i^T w)} + \\lambda w$.\n",
    "\n",
    "You may need to implement a new function to calculate the new objective function and gradients."
   ]
  },
  {
   "cell_type": "code",
   "execution_count": 13,
   "metadata": {},
   "outputs": [],
   "source": [
    "# Calculate the objective Q_i and the gradient of Q_i\n",
    "# Inputs:\n",
    "#     w: weights: d-by-1 matrix\n",
    "#     xi: data: 1-by-d matrix\n",
    "#     yi: label: scalar\n",
    "#     lam: scalar, the regularization parameter\n",
    "# Return:\n",
    "#     obj: scalar, the objective Q_i\n",
    "#     g: d-by-1 matrix, gradient of Q_i\n",
    "\n",
    "def stochastic_objective_gradient(w, xi, yi, lam):\n",
    "    #Stochastic Objective\n",
    "    d = xi.shape[0]\n",
    "    xTw = np.dot(xi.reshape(1,30),w)    \n",
    "    z = yi * xTw\n",
    "    log_z = np.log(1 + np.exp(-z))    \n",
    "    obj = log_z + (lam/2) * np.sum(w * w)\n",
    "    \n",
    "    #Stochastic Gradient\n",
    "    yi_xi = np.multiply(yi,xi).reshape(1,30)\n",
    "    cost = -yi_xi.T / (1 + np.exp(z))\n",
    "    gdt = cost + (lam * w)\n",
    "    return obj,gdt"
   ]
  },
  {
   "cell_type": "markdown",
   "metadata": {},
   "source": [
    "Hints:\n",
    "1. In every epoch, randomly permute the $n$ samples.\n",
    "2. Each epoch has $n$ iterations. In every iteration, use 1 sample, and compute the gradient and objective using the ``stochastic_objective_gradient`` function. In the next iteration, use the next sample, and so on."
   ]
  },
  {
   "cell_type": "code",
   "execution_count": 14,
   "metadata": {},
   "outputs": [],
   "source": [
    "# SGD for solving logistic regression\n",
    "# You will need to do iterative process (loops) to obtain optimal weights in this function\n",
    "\n",
    "# Inputs:\n",
    "#     x: data: n-by-d matrix\n",
    "#     y: label: n-by-1 matrix\n",
    "#     lam: scalar, the regularization parameter\n",
    "#     learning_rate: scalar\n",
    "#     w: weights: d-by-1 matrix, initialization of w\n",
    "#     max_epoch: integer, the maximal epochs\n",
    "# Return:\n",
    "#     \n",
    "#     w: weights: d-by-1 matrix, the solution\n",
    "#     objvals: a record of each epoch's objective value\n",
    "#     Record one objective value per epoch (not per iteration)\n",
    "\n",
    "def sgd(x, y, lam, learning_rate, w = None, max_epoch=100):\n",
    "    n,d = x.shape\n",
    "    sgd_obj_vals = np.zeros(max_epoch)\n",
    "    \n",
    "    if w is None:\n",
    "        w = np.zeros((d,1))\n",
    "        \n",
    "    for i in range(max_epoch):\n",
    "        rand_i = np.random.permutation(n)\n",
    "        random_x = x[rand_i, :]\n",
    "        random_y = y[rand_i, :]\n",
    "        sgd_obj_val = 0\n",
    "        \n",
    "        for j in range(n):\n",
    "            xi = random_x[j, :].reshape(1,30)\n",
    "            yi = float(random_y[j, :])            \n",
    "            obj, gdt = stochastic_objective_gradient(w, xi, yi, lam = 0)\n",
    "            sgd_obj_val += obj\n",
    "            w -= learning_rate * gdt\n",
    "        learning_rate *= .9\n",
    "        sgd_obj_val /= n\n",
    "        sgd_obj_vals[i] = sgd_obj_val\n",
    "    return w, sgd_obj_vals"
   ]
  },
  {
   "cell_type": "markdown",
   "metadata": {},
   "source": [
    "Use sgd function to obtain your optimal weights and a list of objective values over each epoch."
   ]
  },
  {
   "cell_type": "code",
   "execution_count": 15,
   "metadata": {},
   "outputs": [],
   "source": [
    "# Train logistic regression\n",
    "# You should get the optimal weights and a list of objective values by using gradient_descent function.\n",
    "wsgd, obj3 = sgd(x_train,y_train,lam=0,learning_rate=0.1)"
   ]
  },
  {
   "cell_type": "code",
   "execution_count": 16,
   "metadata": {},
   "outputs": [],
   "source": [
    "# Train regularized logistic regression\n",
    "# You should get the optimal weights and a list of objective values by using gradient_descent function.\n",
    "l2_wsgd, obj4 = sgd(x_train,y_train,lam=0.1,learning_rate=0.1)"
   ]
  },
  {
   "cell_type": "markdown",
   "metadata": {},
   "source": [
    "## 3.3 Mini-Batch Gradient Descent (MBGD)"
   ]
  },
  {
   "cell_type": "markdown",
   "metadata": {},
   "source": [
    "Define $Q_I (w) = \\frac{1}{b} \\sum_{i \\in I} \\log \\Big( 1 + \\exp \\big( - y_i x_i^T w \\big) \\Big) + \\frac{\\lambda}{2} \\| w \\|_2^2 $, where $I$ is a set containing $b$ indices randomly drawn from $\\{ 1, \\cdots , n \\}$ without replacement.\n",
    "\n",
    "The stochastic gradient at $w$ is $g_I = \\frac{\\partial Q_I }{ \\partial w} = \\frac{1}{b} \\sum_{i \\in I} \\frac{- y_i x_i }{1 + \\exp ( y_i x_i^T w)} + \\lambda w$.\n",
    "\n",
    "You may need to implement a new function to calculate the new objective function and gradients."
   ]
  },
  {
   "cell_type": "code",
   "execution_count": 17,
   "metadata": {},
   "outputs": [],
   "source": [
    "# Calculate the objective Q_I and the gradient of Q_I\n",
    "# Inputs:\n",
    "#     w: weights: d-by-b matrix\n",
    "#     xi: data: b-by-d matrix\n",
    "#     yi: label: scalar\n",
    "#     lam: scalar, the regularization parameter\n",
    "# Return:\n",
    "#     obj: scalar, the objective Q_i\n",
    "#     g: d-by-1 matrix, gradient of Q_i\n",
    "\n",
    "def mb_objective_gradient(w, xi, yi, lam = 0):\n",
    "    n,d = xi.shape\n",
    "    #\n",
    "    wTx = np.dot(xi,w)\n",
    "    z = np.multiply(yi,wTx)\n",
    "    exp_z = 1 + np.exp(-z)\n",
    "    l_z = np.log(exp_z)\n",
    "    l2_reg = l_z + ((lam/2) * np.sum(w*w))\n",
    "    obj = np.mean(l2_reg)\n",
    "    \n",
    "    yx = np.multiply(yi,xi)\n",
    "    wTx = np.dot(xi,w)\n",
    "    z = np.multiply(yi,wTx)\n",
    "    denominator = 1 + np.exp(z)\n",
    "    quotient = (-yx)/denominator     \n",
    "    g = np.mean(quotient,axis=0).reshape(d,1) + (lam*w) \n",
    "    return obj, g"
   ]
  },
  {
   "cell_type": "markdown",
   "metadata": {},
   "source": [
    "Hints:\n",
    "1. In every epoch, randomly permute the $n$ samples (just like SGD).\n",
    "2. Each epoch has $\\frac{n}{b}$ iterations. In every iteration, use $b$ samples, and compute the gradient and objective using the ``mb_objective_gradient`` function. In the next iteration, use the next $b$ samples, and so on."
   ]
  },
  {
   "cell_type": "code",
   "execution_count": 18,
   "metadata": {},
   "outputs": [],
   "source": [
    "# MBGD for solving logistic regression\n",
    "# You will need to do iterative process (loops) to obtain optimal weights in this function\n",
    "\n",
    "# Inputs:\n",
    "#     x: data: n-by-d matrix\n",
    "#     y: label: n-by-1 matrix\n",
    "#     lam: scalar, the regularization parameter\n",
    "#     learning_rate: scalar\n",
    "#     w: weights: d-by-1 matrix, initialization of w\n",
    "#     max_epoch: integer, the maximal epochs\n",
    "# Return:\n",
    "#     w: weights: d-by-1 matrix, the solution\n",
    "#     objvals: a record of each epoch's objective value\n",
    "#     Record one objective value per epoch (not per iteration)\n",
    "\n",
    "\n",
    "def mbgd(x, y, b, lam = 0, learning_rate = 1.0, w = None, max_epoch=100):\n",
    "    n,d = x.shape\n",
    "    mbgd_obj_vals = np.zeros(max_epoch)\n",
    "    iters = n//b\n",
    "    if w is None:\n",
    "        w = np.zeros((d,1))\n",
    "    \n",
    "    for i in range(max_epoch):\n",
    "        #Creates uniform sampled indicies.\n",
    "        rand_i = np.random.permutation(n)\n",
    "        random_x = x[rand_i, :]\n",
    "        random_y = y[rand_i, :]        \n",
    "        #indices = np.random.choice(n, b,replace = False)            \n",
    "        sgd_obj_val = 0\n",
    "        for j in range(iters):\n",
    "            #Calculates gradient and objective values\n",
    "            indices = np.random.choice(n, b,replace = False) \n",
    "            xi = random_x[indices,:]\n",
    "            yi = random_y[indices]\n",
    "            obj,gdt = mb_objective_gradient(w, xi, yi,lam)            \n",
    "            sgd_obj_val += obj             \n",
    "            w -= learning_rate * gdt\n",
    "        learning_rate *= .9\n",
    "        sgd_obj_val /= b\n",
    "        mbgd_obj_vals[i] = sgd_obj_val\n",
    "    return w, mbgd_obj_vals"
   ]
  },
  {
   "cell_type": "markdown",
   "metadata": {},
   "source": [
    "Use mbgd function to obtain your optimal weights and a list of objective values over each epoch."
   ]
  },
  {
   "cell_type": "code",
   "execution_count": 19,
   "metadata": {},
   "outputs": [],
   "source": [
    "# Train logistic regression\n",
    "# You should get the optimal weights and a list of objective values by using gradient_descent function.\n",
    "wmbgd,obj5 = mbgd(x_train, y_train, b = 50, lam = 0, learning_rate = 0.5, w = None, max_epoch=100)"
   ]
  },
  {
   "cell_type": "code",
   "execution_count": 20,
   "metadata": {},
   "outputs": [],
   "source": [
    "# Train regularized logistic regression\n",
    "# You should get the optimal weights and a list of objective values by using gradient_descent function.\n",
    "l2_wmbgd,obj6 = mbgd(x_train, y_train, b = 50, lam = .1, learning_rate = 0.5, w = None, max_epoch=100)"
   ]
  },
  {
   "cell_type": "markdown",
   "metadata": {},
   "source": [
    "# 4. Compare GD, SGD, MBGD\n",
    "\n",
    "### Plot objective function values against epochs."
   ]
  },
  {
   "cell_type": "code",
   "execution_count": 21,
   "metadata": {},
   "outputs": [
    {
     "data": {
      "image/png": "[encoded data removed]",
      "text/plain": [
       "<Figure size 432x288 with 1 Axes>"
      ]
     },
     "metadata": {
      "needs_background": "light"
     },
     "output_type": "display_data"
    }
   ],
   "source": [
    "import matplotlib.pyplot as plt\n",
    "%matplotlib inline\n",
    "\n",
    "iters = np.arange(0,100)\n",
    "plt.plot(iters,obj_1,label='GD')\n",
    "plt.plot(iters,obj3,color='red',label='SGD')\n",
    "plt.plot(iters,obj5,label='MBGD')\n",
    "plt.xlabel('Epochs')\n",
    "plt.ylabel('Objective Values')\n",
    "plt.title('Non-Regularized Logistic Regression')\n",
    "plt.legend()\n",
    "plt.show()"
   ]
  },
  {
   "cell_type": "markdown",
   "metadata": {},
   "source": [
    "The above plot depicts the results of the three non-regularized logistic regression models using BGD, SGD, and MBGD. Upon visual analysis one can see that GD requires the greatest number of epochs to find the minimum, whereas SGD and MBGD appear to find their minimums much more efficiently. However, because MBGD uses random variables each epoch, it's plot continues to display variation through all epochs. Lastly, MBGD appears to find the closest minimum to zero out of the three models."
   ]
  },
  {
   "cell_type": "code",
   "execution_count": 22,
   "metadata": {},
   "outputs": [
    {
     "data": {
      "image/png": "[encoded data removed]",
      "text/plain": [
       "<Figure size 432x288 with 1 Axes>"
      ]
     },
     "metadata": {
      "needs_background": "light"
     },
     "output_type": "display_data"
    }
   ],
   "source": [
    "plt.plot(iters,obj_2,label='GD')\n",
    "plt.plot(iters,obj4,color='red',label='SGD')\n",
    "plt.plot(iters,obj6,label='MBGD')\n",
    "plt.xlabel('Epochs')\n",
    "plt.ylabel('Objective Values')\n",
    "plt.title('Regularized Logistic Regression')\n",
    "plt.legend()\n",
    "plt.show()"
   ]
  },
  {
   "cell_type": "markdown",
   "metadata": {},
   "source": [
    "The regularized logistic regression model includes the l-2 norm as a penalty to prevent overfitting. The SGD and MBGD regularized models appear to return similar results to the non-regularized logistic regression models. However, BGD appear to underperform the non-regularized models."
   ]
  },
  {
   "cell_type": "markdown",
   "metadata": {},
   "source": [
    "# 5. Prediction\n",
    "### Compare the training and testing accuracy for logistic regression and regularized logistic regression."
   ]
  },
  {
   "cell_type": "code",
   "execution_count": 23,
   "metadata": {},
   "outputs": [],
   "source": [
    "# Predict class label\n",
    "# Inputs:\n",
    "#     w: weights: d-by-1 matrix\n",
    "#     X: data: m-by-d matrix\n",
    "# Return:\n",
    "#     f: m-by-1 matrix, the predictions\n",
    "def predict(w, X):\n",
    "    n, d = X.shape\n",
    "    z = np.dot(X,w)\n",
    "    f_x = np.log(1 + np.exp(-z))\n",
    "    predictions = np.zeros(n)\n",
    "    for i in range(n):\n",
    "        if f_x[i] > 1:\n",
    "            predictions[i] = -1\n",
    "        elif f_x[i] <= 1:\n",
    "            predictions[i] = 1\n",
    "    return predictions"
   ]
  },
  {
   "cell_type": "code",
   "execution_count": 24,
   "metadata": {},
   "outputs": [],
   "source": [
    "def error_rate(y_true,y_pred):\n",
    "    n = y_test.shape[0]\n",
    "    errors = 0\n",
    "    for i in range(n):\n",
    "        if y_pred[i] != y_true[i]:\n",
    "            errors += 1\n",
    "    rate = errors/n\n",
    "    return rate"
   ]
  },
  {
   "cell_type": "code",
   "execution_count": 25,
   "metadata": {},
   "outputs": [],
   "source": [
    "#Predictions for test tr\n",
    "y_hat_mbgd_test = predict(wmbgd,x_test)\n",
    "y_hat_sgd_test = predict(wsgd,x_test)\n",
    "y_hat_wbgd_test = predict(wbgd,x_test)\n",
    "y_hat_l2_bdg_test = predict(l2_wbgd,x_test)\n",
    "y_hat_l2_sdg_test = predict(l2_wsgd,x_test)\n",
    "y_hat_l2_mbdg_test = predict(l2_wmbgd,x_test)\n",
    "\n",
    "y_hat_mbgd = predict(wmbgd,x_train)\n",
    "y_hat_sgd = predict(wsgd,x_train)\n",
    "y_hat_wbgd = predict(wbgd,x_train)\n",
    "y_hat_l2_bdg = predict(l2_wbgd,x_train)\n",
    "y_hat_l2_sdg = predict(l2_wsgd,x_train)\n",
    "y_hat_l2_mbdg = predict(l2_wmbgd,x_train)"
   ]
  },
  {
   "cell_type": "code",
   "execution_count": 26,
   "metadata": {},
   "outputs": [
    {
     "name": "stdout",
     "output_type": "stream",
     "text": [
      "Training Error Gradient Descent: 0.043859649122807015\n",
      "Training Error Stochastic Gradient Descent: 0.017543859649122806\n",
      "Training Error Mini-Batch Gradient Descent: 0.02631578947368421\n",
      "-------------------------------------------------------\n",
      "Training Error L-2 Gradient Descent: 0.03508771929824561\n",
      "Training Error L-2 Stochastic Gradient Descent: 0.017543859649122806\n",
      "Training Error L-2 Mini-Batch Gradient Descent: 0.03508771929824561\n"
     ]
    }
   ],
   "source": [
    "# evaluate training error of logistic regression and regularized version\n",
    "error1 = error_rate(y_train,y_hat_wbgd)\n",
    "error2 = error_rate(y_train, y_hat_sgd)\n",
    "error3 = error_rate(y_train, y_hat_mbgd)\n",
    "error4 = error_rate(y_train, y_hat_l2_bdg)\n",
    "error5 = error_rate(y_train, y_hat_l2_sdg)\n",
    "error6 = error_rate(y_train, y_hat_l2_mbdg)\n",
    "\n",
    "print(f'Training Error Gradient Descent: {error1}')\n",
    "print(f'Training Error Stochastic Gradient Descent: {error2}')\n",
    "print(f'Training Error Mini-Batch Gradient Descent: {error3 }')\n",
    "print('-------------------------------------------------------')\n",
    "print(f'Training Error L-2 Gradient Descent: {error4}')\n",
    "print(f'Training Error L-2 Stochastic Gradient Descent: {error5}')\n",
    "print(f'Training Error L-2 Mini-Batch Gradient Descent: {error6 }')"
   ]
  },
  {
   "cell_type": "markdown",
   "metadata": {},
   "source": [
    "Upon analysis of the training sets for both L-2 and non-regularized logistic regression returned similar results, plus or minus 0.5 - 1. Overall, SGD performed best, and BGD performed worst of the three models."
   ]
  },
  {
   "cell_type": "code",
   "execution_count": 27,
   "metadata": {},
   "outputs": [
    {
     "name": "stdout",
     "output_type": "stream",
     "text": [
      "Testing Error Gradient Descent: 0.07017543859649122\n",
      "Testing Error Stochastic Gradient Descent: 0.043859649122807015\n",
      "Testing Error Mini-Batch Gradient Descent: 0.06140350877192982\n",
      "------------------------------------------------------------\n",
      "Testing Error L-2 Gradient Descent: 0.08771929824561403\n",
      "Testing Error L-2 Stochastic Gradient Descent: 0.043859649122807015\n",
      "Testing Error L-2 Mini-Batch Gradient Descent: 0.08771929824561403\n"
     ]
    }
   ],
   "source": [
    "# evaluate testing error of logistic regression and regularized version\n",
    "error7 = error_rate(y_test,y_hat_wbgd_test)\n",
    "error8 = error_rate(y_test, y_hat_sgd_test)\n",
    "error9 = error_rate(y_test, y_hat_mbgd_test)\n",
    "error10 = error_rate(y_test, y_hat_l2_bdg_test)\n",
    "error11 = error_rate(y_test, y_hat_l2_sdg_test)\n",
    "error12 = error_rate(y_test, y_hat_l2_mbdg_test)\n",
    "\n",
    "print(f'Testing Error Gradient Descent: {error7}')\n",
    "print(f'Testing Error Stochastic Gradient Descent: {error8}')\n",
    "print(f'Testing Error Mini-Batch Gradient Descent: {error9}')\n",
    "print('------------------------------------------------------------')\n",
    "print(f'Testing Error L-2 Gradient Descent: {error10}')\n",
    "print(f'Testing Error L-2 Stochastic Gradient Descent: {error11}')\n",
    "print(f'Testing Error L-2 Mini-Batch Gradient Descent: {error12}')"
   ]
  },
  {
   "cell_type": "markdown",
   "metadata": {},
   "source": [
    "Overall, all six models saw increased error rate against the test data set. It does not come as a surprise that the models performed worse against the test data however. The SGD models performed the best with the BGD models again exhiting the worst performance. Some of the results are very similar due to their lamdas and learning rates. "
   ]
  },
  {
   "cell_type": "markdown",
   "metadata": {},
   "source": [
    "# 6. Parameters tuning"
   ]
  },
  {
   "cell_type": "markdown",
   "metadata": {},
   "source": [
    "### In this section, you may try different combinations of parameters (regularization value, learning rate, etc) to see their effects on the model. (Open ended question)"
   ]
  },
  {
   "cell_type": "markdown",
   "metadata": {},
   "source": [
    "This first attempt at parameter tuning uses L2-BGD. With tuning, the best model returned a 0.0614 error rate, which is less than the initial return of 0.08772."
   ]
  },
  {
   "cell_type": "code",
   "execution_count": 28,
   "metadata": {},
   "outputs": [],
   "source": [
    "tuning1, obj_tune_1 = gradient_descent(x_train,y_train,0.01,0.5)"
   ]
  },
  {
   "cell_type": "code",
   "execution_count": 29,
   "metadata": {},
   "outputs": [],
   "source": [
    "y_tuning1 = predict(tuning1,x_test)"
   ]
  },
  {
   "cell_type": "code",
   "execution_count": 30,
   "metadata": {},
   "outputs": [
    {
     "data": {
      "text/plain": [
       "0.06140350877192982"
      ]
     },
     "execution_count": 30,
     "metadata": {},
     "output_type": "execute_result"
    }
   ],
   "source": [
    "error_rate(y_test,y_tuning1)"
   ]
  },
  {
   "cell_type": "markdown",
   "metadata": {},
   "source": [
    "The best performance for the L2-SGD model occurs at lambda = 0.01 and learning rate = 0.1. Any parameters less than these values \n",
    "is immaterial, and any inputs greater than these values increases the error rate."
   ]
  },
  {
   "cell_type": "code",
   "execution_count": 31,
   "metadata": {},
   "outputs": [],
   "source": [
    "tuning2, obj_tune2 = sgd(x_train,y_train,lam=0.01,learning_rate=0.1)"
   ]
  },
  {
   "cell_type": "code",
   "execution_count": 32,
   "metadata": {},
   "outputs": [],
   "source": [
    "y_tuning2 = predict(tuning2,x_test)"
   ]
  },
  {
   "cell_type": "code",
   "execution_count": 33,
   "metadata": {},
   "outputs": [
    {
     "data": {
      "text/plain": [
       "0.043859649122807015"
      ]
     },
     "execution_count": 33,
     "metadata": {},
     "output_type": "execute_result"
    }
   ],
   "source": [
    "error_rate(y_test,y_tuning2)"
   ]
  },
  {
   "cell_type": "markdown",
   "metadata": {},
   "source": [
    "The best performance for MBGD on this dataset occurrs at batchsize = 50, lambda = 0.05, and learning rate = 0.1. An error rate of 0.079 is just less than the untuned model's error rate of 0.0877."
   ]
  },
  {
   "cell_type": "code",
   "execution_count": 34,
   "metadata": {},
   "outputs": [],
   "source": [
    "tuning3,obj_tune3 = mbgd(x_train, y_train, b = 50, lam = .05, learning_rate = 0.1, w = None, max_epoch=100)"
   ]
  },
  {
   "cell_type": "code",
   "execution_count": 35,
   "metadata": {},
   "outputs": [],
   "source": [
    "y_tuning3 = predict(tuning3,x_test)"
   ]
  },
  {
   "cell_type": "code",
   "execution_count": 36,
   "metadata": {},
   "outputs": [
    {
     "data": {
      "text/plain": [
       "0.08771929824561403"
      ]
     },
     "execution_count": 36,
     "metadata": {},
     "output_type": "execute_result"
    }
   ],
   "source": [
    "error_rate(y_test,y_tuning3)"
   ]
  }
 ],
 "metadata": {
  "kernelspec": {
   "display_name": "Python 3 (ipykernel)",
   "language": "python",
   "name": "python3"
  },
  "language_info": {
   "codemirror_mode": {
    "name": "ipython",
    "version": 3
   },
   "file_extension": ".py",
   "mimetype": "text/x-python",
   "name": "python",
   "nbconvert_exporter": "python",
   "pygments_lexer": "ipython3",
   "version": "3.9.7"
  }
 },
 "nbformat": 4,
 "nbformat_minor": 2
}
