{
 "cells": [
  {
   "cell_type": "markdown",
   "metadata": {
    "id": "JkU2mVFCpyDu"
   },
   "source": [
    "# Assignment 2: Build a CNN for image recognition.\n",
    "\n",
    "## Due Date:  March 31, 11:59PM\n",
    "\n",
    "### Name: Josh Cubero\n"
   ]
  },
  {
   "cell_type": "markdown",
   "metadata": {
    "id": "1cxPsGjFpyDw"
   },
   "source": [
    "## Introduction:\n",
    "\n",
    "1. In this assignment, you will build Convolutional Neural Network to classify CIFAR-10 Images.\n",
    "2. You can directly load dataset from many deep learning packages.\n",
    "3. You can use any deep learning packages such as pytorch, keras or tensorflow for this assignment."
   ]
  },
  {
   "cell_type": "markdown",
   "metadata": {
    "id": "LFbSA3jzpyDw"
   },
   "source": [
    "## Requirements:\n",
    "\n",
    "1. You need to load cifar 10 data and split the entire training dataset into training and validation.\n",
    "2. You will implement a CNN model to classify cifar 10 images with provided structure.\n",
    "3. You need to plot the training and validation accuracy or loss obtained from above step.\n",
    "4. Then you can use tuned hyper-parameters to train using the entire training dataset.\n",
    "5. You should report the testing accuracy using the model with complete data.\n",
    "6. You may try to change the structure (e.g, add BN layer or dropout layer,...) and analyze your findings.\n",
    "\n",
    "## Google Colab\n",
    "\n",
    "- If you do not have GPU, the training of a CNN can be slow. Google Colab is a good option."
   ]
  },
  {
   "cell_type": "markdown",
   "metadata": {
    "id": "IBHAwGohpyDw"
   },
   "source": [
    "## Batch Normalization (BN)"
   ]
  },
  {
   "cell_type": "markdown",
   "metadata": {
    "id": "i1ZuGuo6pyDx"
   },
   "source": [
    "### Background:"
   ]
  },
  {
   "cell_type": "markdown",
   "metadata": {
    "id": "A_hoybnFpyDx"
   },
   "source": [
    "- Batch Normalization is a technique to speed up training and help make the model more stable.\n",
    "- In simple words, batch normalization is just another network layer that gets inserted between a hidden layer and the next hidden layer. Its job is to take the outputs from the first hidden layer and normalize them before passing them on as the input of the next hidden layer.\n",
    "\n",
    "- For more detailed information, you may refer to the original paper: https://arxiv.org/pdf/1502.03167.pdf."
   ]
  },
  {
   "cell_type": "markdown",
   "metadata": {
    "id": "elhLehXlpyDx"
   },
   "source": [
    "### BN Algorithm:"
   ]
  },
  {
   "cell_type": "markdown",
   "metadata": {
    "id": "7f-FPgA7pyDx"
   },
   "source": [
    "- Input: Values of $x$ over a mini-batch: $\\mathbf{B}$ = $\\{x_1,..., x_m\\};$\n",
    "- Output: $\\{y_i = BN_{\\gamma,\\beta}(x_i)\\}$, $\\gamma, \\beta$ are learnable parameters\n",
    "\n",
    "Normalization of the Input:\n",
    "$$\\mu_{\\mathbf{B}} = \\frac{1}{m}\\sum_{i=1}^m x_i$$\n",
    "$$\\sigma_{\\mathbf{B}}^2 = \\frac{1}{m}\\sum_{i=1}^m (x_i - \\mu_{\\mathbf{B}})^2$$\n",
    "$$\\hat{x_i} = \\frac{x_i - \\mu_{\\mathbf{B}}}{\\sqrt{\\sigma_{\\mathbf{B}}}^2 + \\epsilon}$$\n",
    "Re-scaling and Offsetting:\n",
    "$$y_i = \\gamma \\hat{x_i} + \\beta = BN_{\\gamma,\\beta}(x_i)$$\n"
   ]
  },
  {
   "cell_type": "markdown",
   "metadata": {
    "id": "qbJmIeyypyDy"
   },
   "source": [
    "### Advantages of BN:\n",
    "1. Improves gradient flow through the network.\n",
    "2. Allows use of saturating nonlinearities and higher learning rates.\n",
    "3. Makes weights easier to initialize.\n",
    "4. Act as a form of regularization and may reduce the need for dropout."
   ]
  },
  {
   "cell_type": "markdown",
   "metadata": {
    "id": "3k7RF6xupyDy"
   },
   "source": [
    "### Implementation:"
   ]
  },
  {
   "cell_type": "markdown",
   "metadata": {
    "id": "oy07d2nzpyDy"
   },
   "source": [
    "- The batch normalization layer has already been implemented in many packages. You may simply call the function to build the layer. For example: torch.nn.BatchNorm2d() using pytroch package, keras.layers.BatchNormalization() using keras package.\n",
    "- The location of BN layer: Please make sure ```BatchNormalization``` is between a ```Conv```/```Dense``` layer and an ```activation``` layer."
   ]
  },
  {
   "cell_type": "markdown",
   "metadata": {
    "id": "N8V2UMTVpyDy"
   },
   "source": [
    "## 1. Data preparation"
   ]
  },
  {
   "cell_type": "markdown",
   "metadata": {
    "id": "mg_FUsyipyDy"
   },
   "source": [
    "### 1.1. Load data\n"
   ]
  },
  {
   "cell_type": "code",
   "execution_count": 1,
   "metadata": {
    "colab": {
     "base_uri": "https://localhost:8080/"
    },
    "id": "Hfrgz1ExpyDy",
    "outputId": "69cd564d-4feb-46d6-8312-f8890da4a6cc"
   },
   "outputs": [
    {
     "name": "stdout",
     "output_type": "stream",
     "text": [
      "shape of x_train: (50000, 32, 32, 3)\n",
      "shape of y_train: (50000, 1)\n",
      "shape of x_test: (10000, 32, 32, 3)\n",
      "shape of y_test: (10000, 1)\n",
      "number of classes: 10\n"
     ]
    }
   ],
   "source": [
    "# Load Cifar-10 Data\n",
    "# This is just an example, you may load dataset from other packages.\n",
    "import keras\n",
    "import numpy as np\n",
    "import matplotlib.pyplot as plt\n",
    "from keras.models import Sequential\n",
    "from keras.layers import Conv2D, MaxPooling2D, Flatten, Dense, Activation, BatchNormalization\n",
    "import keras.backend as K\n",
    "from keras.datasets import cifar10\n",
    "from keras.optimizers import Adam,SGD,RMSprop\n",
    "from sklearn.model_selection import train_test_split\n",
    "### If you can not load keras dataset, un-comment these two lines.\n",
    "#import ssl\n",
    "#ssl._create_default_https_context = ssl._create_unverified_context\n",
    "\n",
    "(x_train, y_train), (x_test, y_test) = cifar10.load_data()\n",
    "\n",
    "print('shape of x_train: ' + str(x_train.shape))\n",
    "print('shape of y_train: ' + str(y_train.shape))\n",
    "print('shape of x_test: ' + str(x_test.shape))\n",
    "print('shape of y_test: ' + str(y_test.shape))\n",
    "print('number of classes: ' + str(np.max(y_train) - np.min(y_train) + 1))"
   ]
  },
  {
   "cell_type": "markdown",
   "metadata": {
    "id": "DjpZFZxYpyD0"
   },
   "source": [
    "### 1.2. One-hot encode the labels (5 points)\n",
    "\n",
    "In the input, a label is a scalar in $\\{0, 1, \\cdots , 9\\}$. One-hot encode transform such a scalar to a $10$-dim vector. E.g., a scalar ```y_train[j]=3``` is transformed to the vector ```y_train_vec[j]=[0, 0, 0, 1, 0, 0, 0, 0, 0, 0]```.\n",
    "\n",
    "1. Implement a function ```to_one_hot``` that transforms an $n\\times 1$ array to a $n\\times 10$ matrix.\n",
    "\n",
    "2. Apply the function to ```y_train``` and ```y_test```."
   ]
  },
  {
   "cell_type": "code",
   "execution_count": 2,
   "metadata": {
    "colab": {
     "base_uri": "https://localhost:8080/"
    },
    "id": "wX0TDXnspyD0",
    "outputId": "1e108796-20e0-4355-b1c2-c7d6d34fc493"
   },
   "outputs": [
    {
     "name": "stdout",
     "output_type": "stream",
     "text": [
      "Shape of y_train_vec: (50000, 10)\n",
      "Shape of y_test_vec: (10000, 10)\n",
      "[6]\n",
      "[0. 0. 0. 0. 0. 0. 1. 0. 0. 0.]\n"
     ]
    }
   ],
   "source": [
    "def to_one_hot(y, num_class=10):\n",
    "    y = y.reshape(-1)\n",
    "    return np.eye(num_class)[y]\n",
    "y_train_vec = to_one_hot(y_train)\n",
    "y_test_vec = to_one_hot(y_test)\n",
    "\n",
    "print('Shape of y_train_vec: ' + str(y_train_vec.shape))\n",
    "print('Shape of y_test_vec: ' + str(y_test_vec.shape))\n",
    "\n",
    "print(y_train[0])\n",
    "print(y_train_vec[0])"
   ]
  },
  {
   "cell_type": "code",
   "execution_count": 3,
   "metadata": {
    "colab": {
     "base_uri": "https://localhost:8080/"
    },
    "id": "bLGKLUDdpyD0",
    "outputId": "0f85c5f6-0cf1-46af-be13-7233b4d6c37d"
   },
   "outputs": [
    {
     "name": "stdout",
     "output_type": "stream",
     "text": [
      "Shape of y_train_vec: (50000, 10)\n",
      "Shape of y_test_vec: (10000, 10)\n",
      "[6]\n",
      "[0. 0. 0. 0. 0. 0. 1. 0. 0. 0.]\n"
     ]
    }
   ],
   "source": [
    "print('Shape of y_train_vec: ' + str(y_train_vec.shape))\n",
    "print('Shape of y_test_vec: ' + str(y_test_vec.shape))\n",
    "\n",
    "print(y_train[0])\n",
    "print(y_train_vec[0])"
   ]
  },
  {
   "cell_type": "markdown",
   "metadata": {
    "id": "GkRpXTOppyD0"
   },
   "source": [
    "#### Remark: the outputs should be\n",
    "* Shape of y_train_vec: (50000, 10)\n",
    "* Shape of y_test_vec: (10000, 10)\n",
    "* [6]\n",
    "* [0. 0. 0. 0. 0. 0. 1. 0. 0. 0.]"
   ]
  },
  {
   "cell_type": "markdown",
   "metadata": {
    "id": "9My_QCV-pyD0"
   },
   "source": [
    "### 1.3. Randomly partition the training set to training and validation sets (5 points)\n",
    "\n",
    "Randomly partition the 50K training samples to 2 sets: \n",
    "* a training set containing 40K samples: x_tr, y_tr\n",
    "* a validation set containing 10K samples: x_val, y_val\n"
   ]
  },
  {
   "cell_type": "code",
   "execution_count": 4,
   "metadata": {
    "colab": {
     "base_uri": "https://localhost:8080/"
    },
    "id": "LWi-0KewpyD0",
    "outputId": "e6e70eb8-f0e4-496d-9df5-767a45744a61"
   },
   "outputs": [
    {
     "name": "stdout",
     "output_type": "stream",
     "text": [
      "Shape of x_tr: (40000, 32, 32, 3)\n",
      "Shape of y_tr: (40000, 10)\n",
      "Shape of x_val: (10000, 32, 32, 3)\n",
      "Shape of y_val: (10000, 10)\n"
     ]
    }
   ],
   "source": [
    "x_tr,x_val,y_tr,y_val = train_test_split(x_train, y_train_vec, test_size=0.2, random_state=42)\n",
    "\n",
    "print('Shape of x_tr: ' + str(x_tr.shape))\n",
    "print('Shape of y_tr: ' + str(y_tr.shape))\n",
    "print('Shape of x_val: ' + str(x_val.shape))\n",
    "print('Shape of y_val: ' + str(y_val.shape))"
   ]
  },
  {
   "cell_type": "markdown",
   "metadata": {
    "id": "JKRM18KypyD1"
   },
   "source": [
    "## 2. Build a CNN and tune its hyper-parameters (50 points)\n",
    "\n",
    "- Build a convolutional neural network model using the below structure:\n",
    "\n",
    "- It should have a structure of: Conv - ReLU - Max Pool - ConV - ReLU - Max Pool - Dense - ReLU - Dense - Softmax\n",
    "\n",
    "- In the graph 3@32x32 means the dimension of input image, 32@30x30 means it has 32 filters and the dimension now becomes 30x30 after the convolution.\n",
    "- All convolutional layers (Conv) should have stride = 1 and no padding.\n",
    "- Max Pooling has a pool size of 2 by 2.\n",
    "\n",
    "\n"
   ]
  },
  {
   "cell_type": "markdown",
   "metadata": {
    "id": "vAhaT4yHpyD1"
   },
   "source": [
    "<img src=\"network.PNG\"/>"
   ]
  },
  {
   "cell_type": "markdown",
   "metadata": {
    "id": "7ngSSDfJpyD1"
   },
   "source": [
    "- You may use the validation data to tune the hyper-parameters (e.g., learning rate, and optimization algorithm)\n",
    "- Do NOT use test data for hyper-parameter tuning!!!\n",
    "- Try to achieve a validation accuracy as high as possible."
   ]
  },
  {
   "cell_type": "code",
   "execution_count": 4,
   "metadata": {
    "id": "08giimqHpyD1"
   },
   "outputs": [],
   "source": [
    "\n",
    "model = Sequential()\n",
    "\n",
    "model.add(Conv2D(32,kernel_size=(3,3),input_shape=(32,32,3)))\n",
    "model.add(Activation('relu'))\n",
    "model.add(MaxPooling2D(pool_size=(2,2)))\n",
    "\n",
    "model.add(Conv2D(64,kernel_size=(4,4)))\n",
    "model.add(Activation('relu'))\n",
    "model.add(MaxPooling2D(pool_size=(2,2)))\n",
    "\n",
    "model.add(Flatten())\n",
    "model.add(Dense(256))\n",
    "model.add(Activation('relu'))\n",
    "\n",
    "model.add(Dense(10))\n",
    "model.add(Activation('softmax'))"
   ]
  },
  {
   "cell_type": "code",
   "execution_count": null,
   "metadata": {
    "colab": {
     "base_uri": "https://localhost:8080/"
    },
    "id": "LS2QhdJDpyD1",
    "outputId": "9213988b-7995-41e6-c468-fb9746ee37e5"
   },
   "outputs": [
    {
     "name": "stdout",
     "output_type": "stream",
     "text": [
      "Model: \"sequential_1\"\n",
      "_________________________________________________________________\n",
      " Layer (type)                Output Shape              Param #   \n",
      "=================================================================\n",
      " conv2d_2 (Conv2D)           (None, 30, 30, 32)        896       \n",
      "                                                                 \n",
      " activation_4 (Activation)   (None, 30, 30, 32)        0         \n",
      "                                                                 \n",
      " max_pooling2d_2 (MaxPooling  (None, 15, 15, 32)       0         \n",
      " 2D)                                                             \n",
      "                                                                 \n",
      " conv2d_3 (Conv2D)           (None, 12, 12, 64)        32832     \n",
      "                                                                 \n",
      " activation_5 (Activation)   (None, 12, 12, 64)        0         \n",
      "                                                                 \n",
      " max_pooling2d_3 (MaxPooling  (None, 6, 6, 64)         0         \n",
      " 2D)                                                             \n",
      "                                                                 \n",
      " flatten_1 (Flatten)         (None, 2304)              0         \n",
      "                                                                 \n",
      " dense_2 (Dense)             (None, 256)               590080    \n",
      "                                                                 \n",
      " batch_normalization_3 (Batc  (None, 256)              1024      \n",
      " hNormalization)                                                 \n",
      "                                                                 \n",
      " activation_6 (Activation)   (None, 256)               0         \n",
      "                                                                 \n",
      " dense_3 (Dense)             (None, 10)                2570      \n",
      "                                                                 \n",
      " activation_7 (Activation)   (None, 10)                0         \n",
      "                                                                 \n",
      "=================================================================\n",
      "Total params: 627,402\n",
      "Trainable params: 626,890\n",
      "Non-trainable params: 512\n",
      "_________________________________________________________________\n"
     ]
    }
   ],
   "source": [
    "model.summary()"
   ]
  },
  {
   "cell_type": "code",
   "execution_count": 5,
   "metadata": {},
   "outputs": [],
   "source": [
    "#This cell creates several optimizer objects for hyperparameter tuning."
   ]
  },
  {
   "cell_type": "code",
   "execution_count": 6,
   "metadata": {
    "id": "0ps5uvf0luWI"
   },
   "outputs": [],
   "source": [
    "adam = Adam(learning_rate=0.00001)\n",
    "sgd = SGD(learning_rate=0.1)\n",
    "rms = RMSprop(learning_rate=0.1)"
   ]
  },
  {
   "cell_type": "code",
   "execution_count": null,
   "metadata": {
    "id": "wMSL6i4tpyD1"
   },
   "outputs": [],
   "source": [
    "# Define model optimizer and loss function\n",
    "model.compile(loss='binary_crossentropy',optimizer=adam,metrics='accuracy')"
   ]
  },
  {
   "cell_type": "code",
   "execution_count": 7,
   "metadata": {},
   "outputs": [],
   "source": [
    "# This is the first iteration of this CNN and uses the Adam optimizer with the learning rate set to 0.00001.\n",
    "# Additionally, the batch size is set to 64. This model was compiled 15-20 for hyperparameter tuning.\n",
    "# The model seen here was most optimized for this study."
   ]
  },
  {
   "cell_type": "code",
   "execution_count": null,
   "metadata": {
    "colab": {
     "base_uri": "https://localhost:8080/"
    },
    "id": "LKl0PDDjpyD2",
    "outputId": "e2d7c8d4-6838-4416-8693-cee390afbeb6"
   },
   "outputs": [
    {
     "name": "stdout",
     "output_type": "stream",
     "text": [
      "Epoch 1/60\n",
      "625/625 [==============================] - 4s 5ms/step - loss: 1.8669 - accuracy: 0.1547 - val_loss: 0.8577 - val_accuracy: 0.2117\n",
      "Epoch 2/60\n",
      "625/625 [==============================] - 3s 4ms/step - loss: 0.7231 - accuracy: 0.2423 - val_loss: 0.6368 - val_accuracy: 0.2570\n",
      "Epoch 3/60\n",
      "625/625 [==============================] - 4s 6ms/step - loss: 0.5721 - accuracy: 0.2858 - val_loss: 0.5328 - val_accuracy: 0.2893\n",
      "Epoch 4/60\n",
      "625/625 [==============================] - 4s 7ms/step - loss: 0.4926 - accuracy: 0.3115 - val_loss: 0.4752 - val_accuracy: 0.3092\n",
      "Epoch 5/60\n",
      "625/625 [==============================] - 7s 12ms/step - loss: 0.4417 - accuracy: 0.3363 - val_loss: 0.4277 - val_accuracy: 0.3325\n",
      "Epoch 6/60\n",
      "625/625 [==============================] - 4s 6ms/step - loss: 0.4017 - accuracy: 0.3569 - val_loss: 0.3987 - val_accuracy: 0.3511\n",
      "Epoch 7/60\n",
      "625/625 [==============================] - 3s 4ms/step - loss: 0.3734 - accuracy: 0.3747 - val_loss: 0.3745 - val_accuracy: 0.3625\n",
      "Epoch 8/60\n",
      "625/625 [==============================] - 3s 5ms/step - loss: 0.3499 - accuracy: 0.3909 - val_loss: 0.3507 - val_accuracy: 0.3833\n",
      "Epoch 9/60\n",
      "625/625 [==============================] - 3s 5ms/step - loss: 0.3306 - accuracy: 0.4090 - val_loss: 0.3350 - val_accuracy: 0.3996\n",
      "Epoch 10/60\n",
      "625/625 [==============================] - 3s 4ms/step - loss: 0.3150 - accuracy: 0.4223 - val_loss: 0.3273 - val_accuracy: 0.4037\n",
      "Epoch 11/60\n",
      "625/625 [==============================] - 3s 5ms/step - loss: 0.3012 - accuracy: 0.4367 - val_loss: 0.3121 - val_accuracy: 0.4247\n",
      "Epoch 12/60\n",
      "625/625 [==============================] - 3s 5ms/step - loss: 0.2893 - accuracy: 0.4484 - val_loss: 0.3028 - val_accuracy: 0.4265\n",
      "Epoch 13/60\n",
      "625/625 [==============================] - 3s 5ms/step - loss: 0.2787 - accuracy: 0.4627 - val_loss: 0.2922 - val_accuracy: 0.4421\n",
      "Epoch 14/60\n",
      "625/625 [==============================] - 3s 4ms/step - loss: 0.2694 - accuracy: 0.4742 - val_loss: 0.2845 - val_accuracy: 0.4510\n",
      "Epoch 15/60\n",
      "625/625 [==============================] - 3s 5ms/step - loss: 0.2612 - accuracy: 0.4876 - val_loss: 0.2798 - val_accuracy: 0.4612\n",
      "Epoch 16/60\n",
      "625/625 [==============================] - 3s 5ms/step - loss: 0.2543 - accuracy: 0.4984 - val_loss: 0.2731 - val_accuracy: 0.4703\n",
      "Epoch 17/60\n",
      "625/625 [==============================] - 3s 5ms/step - loss: 0.2477 - accuracy: 0.5084 - val_loss: 0.2691 - val_accuracy: 0.4754\n",
      "Epoch 18/60\n",
      "625/625 [==============================] - 3s 4ms/step - loss: 0.2417 - accuracy: 0.5205 - val_loss: 0.2617 - val_accuracy: 0.4841\n",
      "Epoch 19/60\n",
      "625/625 [==============================] - 3s 5ms/step - loss: 0.2359 - accuracy: 0.5300 - val_loss: 0.2597 - val_accuracy: 0.4895\n",
      "Epoch 20/60\n",
      "625/625 [==============================] - 3s 4ms/step - loss: 0.2306 - accuracy: 0.5397 - val_loss: 0.2551 - val_accuracy: 0.4962\n",
      "Epoch 21/60\n",
      "625/625 [==============================] - 3s 5ms/step - loss: 0.2257 - accuracy: 0.5491 - val_loss: 0.2518 - val_accuracy: 0.5018\n",
      "Epoch 22/60\n",
      "625/625 [==============================] - 3s 5ms/step - loss: 0.2212 - accuracy: 0.5570 - val_loss: 0.2489 - val_accuracy: 0.5058\n",
      "Epoch 23/60\n",
      "625/625 [==============================] - 3s 5ms/step - loss: 0.2169 - accuracy: 0.5677 - val_loss: 0.2450 - val_accuracy: 0.5149\n",
      "Epoch 24/60\n",
      "625/625 [==============================] - 3s 4ms/step - loss: 0.2131 - accuracy: 0.5736 - val_loss: 0.2425 - val_accuracy: 0.5198\n",
      "Epoch 25/60\n",
      "625/625 [==============================] - 3s 5ms/step - loss: 0.2091 - accuracy: 0.5850 - val_loss: 0.2414 - val_accuracy: 0.5236\n",
      "Epoch 26/60\n",
      "625/625 [==============================] - 3s 5ms/step - loss: 0.2056 - accuracy: 0.5899 - val_loss: 0.2378 - val_accuracy: 0.5278\n",
      "Epoch 27/60\n",
      "625/625 [==============================] - 3s 4ms/step - loss: 0.2017 - accuracy: 0.5975 - val_loss: 0.2360 - val_accuracy: 0.5332\n",
      "Epoch 28/60\n",
      "625/625 [==============================] - 3s 4ms/step - loss: 0.1986 - accuracy: 0.6054 - val_loss: 0.2329 - val_accuracy: 0.5373\n",
      "Epoch 29/60\n",
      "625/625 [==============================] - 3s 5ms/step - loss: 0.1955 - accuracy: 0.6114 - val_loss: 0.2327 - val_accuracy: 0.5393\n",
      "Epoch 30/60\n",
      "625/625 [==============================] - 3s 5ms/step - loss: 0.1927 - accuracy: 0.6195 - val_loss: 0.2291 - val_accuracy: 0.5488\n",
      "Epoch 31/60\n",
      "625/625 [==============================] - 3s 5ms/step - loss: 0.1895 - accuracy: 0.6255 - val_loss: 0.2286 - val_accuracy: 0.5531\n",
      "Epoch 32/60\n",
      "625/625 [==============================] - 3s 5ms/step - loss: 0.1868 - accuracy: 0.6322 - val_loss: 0.2268 - val_accuracy: 0.5546\n",
      "Epoch 33/60\n",
      "625/625 [==============================] - 3s 5ms/step - loss: 0.1841 - accuracy: 0.6387 - val_loss: 0.2242 - val_accuracy: 0.5591\n",
      "Epoch 34/60\n",
      "625/625 [==============================] - 3s 5ms/step - loss: 0.1814 - accuracy: 0.6461 - val_loss: 0.2234 - val_accuracy: 0.5610\n",
      "Epoch 35/60\n",
      "625/625 [==============================] - 3s 4ms/step - loss: 0.1788 - accuracy: 0.6507 - val_loss: 0.2232 - val_accuracy: 0.5643\n",
      "Epoch 36/60\n",
      "625/625 [==============================] - 3s 4ms/step - loss: 0.1765 - accuracy: 0.6555 - val_loss: 0.2206 - val_accuracy: 0.5658\n",
      "Epoch 37/60\n",
      "625/625 [==============================] - 3s 5ms/step - loss: 0.1741 - accuracy: 0.6636 - val_loss: 0.2193 - val_accuracy: 0.5732\n",
      "Epoch 38/60\n",
      "625/625 [==============================] - 4s 6ms/step - loss: 0.1720 - accuracy: 0.6673 - val_loss: 0.2179 - val_accuracy: 0.5740\n",
      "Epoch 39/60\n",
      "625/625 [==============================] - 3s 5ms/step - loss: 0.1697 - accuracy: 0.6754 - val_loss: 0.2164 - val_accuracy: 0.5774\n",
      "Epoch 40/60\n",
      "625/625 [==============================] - 4s 7ms/step - loss: 0.1676 - accuracy: 0.6779 - val_loss: 0.2160 - val_accuracy: 0.5810\n",
      "Epoch 41/60\n",
      "625/625 [==============================] - 3s 5ms/step - loss: 0.1656 - accuracy: 0.6816 - val_loss: 0.2158 - val_accuracy: 0.5824\n",
      "Epoch 42/60\n",
      "625/625 [==============================] - 3s 5ms/step - loss: 0.1632 - accuracy: 0.6891 - val_loss: 0.2164 - val_accuracy: 0.5788\n",
      "Epoch 43/60\n",
      "625/625 [==============================] - 3s 4ms/step - loss: 0.1615 - accuracy: 0.6933 - val_loss: 0.2147 - val_accuracy: 0.5842\n",
      "Epoch 44/60\n",
      "625/625 [==============================] - 3s 5ms/step - loss: 0.1594 - accuracy: 0.6991 - val_loss: 0.2133 - val_accuracy: 0.5843\n",
      "Epoch 45/60\n",
      "625/625 [==============================] - 3s 5ms/step - loss: 0.1574 - accuracy: 0.7028 - val_loss: 0.2124 - val_accuracy: 0.5866\n",
      "Epoch 46/60\n",
      "625/625 [==============================] - 3s 5ms/step - loss: 0.1557 - accuracy: 0.7079 - val_loss: 0.2121 - val_accuracy: 0.5923\n",
      "Epoch 47/60\n",
      "625/625 [==============================] - 3s 5ms/step - loss: 0.1539 - accuracy: 0.7111 - val_loss: 0.2133 - val_accuracy: 0.5852\n",
      "Epoch 48/60\n",
      "625/625 [==============================] - 3s 4ms/step - loss: 0.1522 - accuracy: 0.7175 - val_loss: 0.2118 - val_accuracy: 0.5929\n",
      "Epoch 49/60\n",
      "625/625 [==============================] - 3s 5ms/step - loss: 0.1503 - accuracy: 0.7203 - val_loss: 0.2100 - val_accuracy: 0.5970\n",
      "Epoch 50/60\n",
      "625/625 [==============================] - 3s 5ms/step - loss: 0.1487 - accuracy: 0.7241 - val_loss: 0.2102 - val_accuracy: 0.5959\n",
      "Epoch 51/60\n",
      "625/625 [==============================] - 3s 5ms/step - loss: 0.1471 - accuracy: 0.7284 - val_loss: 0.2100 - val_accuracy: 0.5951\n",
      "Epoch 52/60\n",
      "625/625 [==============================] - 3s 5ms/step - loss: 0.1454 - accuracy: 0.7336 - val_loss: 0.2076 - val_accuracy: 0.5996\n",
      "Epoch 53/60\n",
      "625/625 [==============================] - 3s 5ms/step - loss: 0.1438 - accuracy: 0.7346 - val_loss: 0.2079 - val_accuracy: 0.6034\n",
      "Epoch 54/60\n",
      "625/625 [==============================] - 3s 5ms/step - loss: 0.1423 - accuracy: 0.7405 - val_loss: 0.2095 - val_accuracy: 0.5987\n",
      "Epoch 55/60\n",
      "625/625 [==============================] - 3s 5ms/step - loss: 0.1406 - accuracy: 0.7439 - val_loss: 0.2075 - val_accuracy: 0.6009\n",
      "Epoch 56/60\n",
      "625/625 [==============================] - 3s 4ms/step - loss: 0.1392 - accuracy: 0.7489 - val_loss: 0.2069 - val_accuracy: 0.6029\n",
      "Epoch 57/60\n",
      "625/625 [==============================] - 4s 6ms/step - loss: 0.1374 - accuracy: 0.7520 - val_loss: 0.2070 - val_accuracy: 0.6077\n",
      "Epoch 58/60\n",
      "625/625 [==============================] - 3s 5ms/step - loss: 0.1360 - accuracy: 0.7541 - val_loss: 0.2065 - val_accuracy: 0.6069\n",
      "Epoch 59/60\n",
      "625/625 [==============================] - 3s 4ms/step - loss: 0.1346 - accuracy: 0.7597 - val_loss: 0.2063 - val_accuracy: 0.6066\n",
      "Epoch 60/60\n",
      "625/625 [==============================] - 3s 4ms/step - loss: 0.1331 - accuracy: 0.7629 - val_loss: 0.2061 - val_accuracy: 0.6083\n"
     ]
    },
    {
     "data": {
      "text/plain": [
       "<keras.callbacks.History at 0x7f78b0573940>"
      ]
     },
     "execution_count": 78,
     "metadata": {},
     "output_type": "execute_result"
    }
   ],
   "source": [
    "# Train the model and store model parameters/loss values\n",
    "model.fit(x = x_tr,y=y_tr,epochs=60,batch_size=64, validation_data=(x_val,y_val))"
   ]
  },
  {
   "cell_type": "markdown",
   "metadata": {
    "id": "-C0nrjuWpyD2"
   },
   "source": [
    "## 3. Plot the training and validation loss curve versus epochs. (5 points)"
   ]
  },
  {
   "cell_type": "code",
   "execution_count": null,
   "metadata": {
    "colab": {
     "base_uri": "https://localhost:8080/",
     "height": 283
    },
    "id": "KIRGlhH5pyD2",
    "outputId": "3ea397a2-a50d-46d9-8b00-23a28be6e111"
   },
   "outputs": [
    {
     "data": {
      "text/plain": [
       "<matplotlib.legend.Legend at 0x7f78b02bc850>"
      ]
     },
     "execution_count": 79,
     "metadata": {},
     "output_type": "execute_result"
    },
    {
     "data": {
      "image/png": "[encoded data removed]",
      "text/plain": [
       "<Figure size 432x288 with 1 Axes>"
      ]
     },
     "metadata": {
      "needs_background": "light"
     },
     "output_type": "display_data"
    }
   ],
   "source": [
    "# Plot the loss curve\n",
    "import pandas as pd\n",
    "losses = pd.DataFrame(model.history.history)\n",
    "plt.plot(losses['accuracy'],label='Train Accuracy')\n",
    "plt.plot(losses['val_accuracy'],label='Validation Accuracy')\n",
    "plt.legend()"
   ]
  },
  {
   "cell_type": "code",
   "execution_count": 8,
   "metadata": {},
   "outputs": [],
   "source": [
    "# Above, the model's accuracy is plotted. The train accuracy steadily improves, while the validation accuracy remains flat.\n",
    "# This indicates that the model is overfitting and will need more work on the data layers to reduce overfitting."
   ]
  },
  {
   "cell_type": "code",
   "execution_count": null,
   "metadata": {
    "colab": {
     "base_uri": "https://localhost:8080/",
     "height": 283
    },
    "id": "VXZFOxoNpyD2",
    "outputId": "bfe81ba1-b064-4601-82d8-066804e37537"
   },
   "outputs": [
    {
     "data": {
      "text/plain": [
       "[<matplotlib.lines.Line2D at 0x7f78b0211e20>]"
      ]
     },
     "execution_count": 80,
     "metadata": {},
     "output_type": "execute_result"
    },
    {
     "data": {
      "image/png": "[encoded data removed]",
      "text/plain": [
       "<Figure size 432x288 with 1 Axes>"
      ]
     },
     "metadata": {
      "needs_background": "light"
     },
     "output_type": "display_data"
    }
   ],
   "source": [
    "plt.plot(losses['loss'],label='Training Loss')\n",
    "plt.plot(losses['val_loss'],label='Validation Loss')"
   ]
  },
  {
   "cell_type": "code",
   "execution_count": 9,
   "metadata": {},
   "outputs": [],
   "source": [
    "# Once again, we see that the validation and training data appear to diverge, which further supports the idea that \n",
    "# the model is experiencing overfitting."
   ]
  },
  {
   "cell_type": "markdown",
   "metadata": {
    "id": "YrsiRK-GpyD3"
   },
   "source": [
    "## 4. Train (again) and evaluate the model (5 points)\n",
    "\n",
    "- To this end, you have found the \"best\" hyper-parameters. \n",
    "- Now, fix the hyper-parameters and train the network on the entire training set (all the 50K training samples)\n",
    "- Evaluate your model on the test set."
   ]
  },
  {
   "cell_type": "markdown",
   "metadata": {
    "id": "ENR3raFzpyD3"
   },
   "source": [
    "### Train the model on the entire training set\n",
    "\n",
    "Why? Previously, you used 40K samples for training; you wasted 10K samples for the sake of hyper-parameter tuning. Now you already know the hyper-parameters, so why not using all the 50K samples for training?"
   ]
  },
  {
   "cell_type": "code",
   "execution_count": null,
   "metadata": {
    "id": "g8wFGtgcpyD3"
   },
   "outputs": [],
   "source": [
    "#<Compile your model again (using the same hyper-parameters you tuned above)>\n",
    "model.compile(optimizer=adam,loss='binary_crossentropy',metrics='accuracy')"
   ]
  },
  {
   "cell_type": "code",
   "execution_count": null,
   "metadata": {
    "colab": {
     "base_uri": "https://localhost:8080/"
    },
    "id": "fz6NMESIpyD4",
    "outputId": "e5df1721-9071-4706-cec5-911bc1c1ee98"
   },
   "outputs": [
    {
     "name": "stdout",
     "output_type": "stream",
     "text": [
      "Epoch 1/60\n",
      "782/782 [==============================] - 5s 5ms/step - loss: 0.7155 - accuracy: 0.2381 - val_loss: 0.4548 - val_accuracy: 0.2826\n",
      "Epoch 2/60\n",
      "782/782 [==============================] - 5s 6ms/step - loss: 0.4045 - accuracy: 0.3124 - val_loss: 0.3750 - val_accuracy: 0.3323\n",
      "Epoch 3/60\n",
      "782/782 [==============================] - 4s 5ms/step - loss: 0.3466 - accuracy: 0.3495 - val_loss: 0.3358 - val_accuracy: 0.3632\n",
      "Epoch 4/60\n",
      "782/782 [==============================] - 4s 5ms/step - loss: 0.3147 - accuracy: 0.3777 - val_loss: 0.3111 - val_accuracy: 0.3855\n",
      "Epoch 5/60\n",
      "782/782 [==============================] - 5s 6ms/step - loss: 0.2929 - accuracy: 0.4024 - val_loss: 0.2940 - val_accuracy: 0.4034\n",
      "Epoch 6/60\n",
      "782/782 [==============================] - 4s 6ms/step - loss: 0.2769 - accuracy: 0.4265 - val_loss: 0.2797 - val_accuracy: 0.4268\n",
      "Epoch 7/60\n",
      "782/782 [==============================] - 4s 5ms/step - loss: 0.2641 - accuracy: 0.4476 - val_loss: 0.2693 - val_accuracy: 0.4415\n",
      "Epoch 8/60\n",
      "782/782 [==============================] - 5s 7ms/step - loss: 0.2536 - accuracy: 0.4696 - val_loss: 0.2603 - val_accuracy: 0.4610\n",
      "Epoch 9/60\n",
      "782/782 [==============================] - 4s 5ms/step - loss: 0.2443 - accuracy: 0.4881 - val_loss: 0.2523 - val_accuracy: 0.4797\n",
      "Epoch 10/60\n",
      "782/782 [==============================] - 4s 5ms/step - loss: 0.2360 - accuracy: 0.5063 - val_loss: 0.2470 - val_accuracy: 0.4844\n",
      "Epoch 11/60\n",
      "782/782 [==============================] - 5s 6ms/step - loss: 0.2284 - accuracy: 0.5225 - val_loss: 0.2407 - val_accuracy: 0.5038\n",
      "Epoch 12/60\n",
      "782/782 [==============================] - 4s 5ms/step - loss: 0.2218 - accuracy: 0.5387 - val_loss: 0.2357 - val_accuracy: 0.5113\n",
      "Epoch 13/60\n",
      "782/782 [==============================] - 4s 6ms/step - loss: 0.2157 - accuracy: 0.5522 - val_loss: 0.2321 - val_accuracy: 0.5192\n",
      "Epoch 14/60\n",
      "782/782 [==============================] - 4s 6ms/step - loss: 0.2100 - accuracy: 0.5673 - val_loss: 0.2273 - val_accuracy: 0.5324\n",
      "Epoch 15/60\n",
      "782/782 [==============================] - 4s 5ms/step - loss: 0.2048 - accuracy: 0.5806 - val_loss: 0.2240 - val_accuracy: 0.5393\n",
      "Epoch 16/60\n",
      "782/782 [==============================] - 5s 6ms/step - loss: 0.1999 - accuracy: 0.5927 - val_loss: 0.2205 - val_accuracy: 0.5476\n",
      "Epoch 17/60\n",
      "782/782 [==============================] - 4s 5ms/step - loss: 0.1954 - accuracy: 0.6053 - val_loss: 0.2176 - val_accuracy: 0.5585\n",
      "Epoch 18/60\n",
      "782/782 [==============================] - 4s 5ms/step - loss: 0.1911 - accuracy: 0.6154 - val_loss: 0.2163 - val_accuracy: 0.5597\n",
      "Epoch 19/60\n",
      "782/782 [==============================] - 5s 6ms/step - loss: 0.1871 - accuracy: 0.6258 - val_loss: 0.2125 - val_accuracy: 0.5712\n",
      "Epoch 20/60\n",
      "782/782 [==============================] - 4s 5ms/step - loss: 0.1833 - accuracy: 0.6358 - val_loss: 0.2115 - val_accuracy: 0.5743\n",
      "Epoch 21/60\n",
      "782/782 [==============================] - 4s 5ms/step - loss: 0.1797 - accuracy: 0.6423 - val_loss: 0.2078 - val_accuracy: 0.5817\n",
      "Epoch 22/60\n",
      "782/782 [==============================] - 5s 6ms/step - loss: 0.1763 - accuracy: 0.6524 - val_loss: 0.2070 - val_accuracy: 0.5837\n",
      "Epoch 23/60\n",
      "782/782 [==============================] - 4s 6ms/step - loss: 0.1730 - accuracy: 0.6609 - val_loss: 0.2045 - val_accuracy: 0.5909\n",
      "Epoch 24/60\n",
      "782/782 [==============================] - 4s 5ms/step - loss: 0.1697 - accuracy: 0.6688 - val_loss: 0.2047 - val_accuracy: 0.5909\n",
      "Epoch 25/60\n",
      "782/782 [==============================] - 5s 6ms/step - loss: 0.1669 - accuracy: 0.6757 - val_loss: 0.2026 - val_accuracy: 0.5933\n",
      "Epoch 26/60\n",
      "782/782 [==============================] - 4s 5ms/step - loss: 0.1641 - accuracy: 0.6833 - val_loss: 0.2019 - val_accuracy: 0.5974\n",
      "Epoch 27/60\n",
      "782/782 [==============================] - 4s 5ms/step - loss: 0.1612 - accuracy: 0.6891 - val_loss: 0.2001 - val_accuracy: 0.6003\n",
      "Epoch 28/60\n",
      "782/782 [==============================] - 5s 6ms/step - loss: 0.1585 - accuracy: 0.6961 - val_loss: 0.1989 - val_accuracy: 0.6056\n",
      "Epoch 29/60\n",
      "782/782 [==============================] - 4s 5ms/step - loss: 0.1558 - accuracy: 0.7032 - val_loss: 0.1984 - val_accuracy: 0.6066\n",
      "Epoch 30/60\n",
      "782/782 [==============================] - 4s 5ms/step - loss: 0.1533 - accuracy: 0.7092 - val_loss: 0.1962 - val_accuracy: 0.6140\n",
      "Epoch 31/60\n",
      "782/782 [==============================] - 5s 6ms/step - loss: 0.1508 - accuracy: 0.7151 - val_loss: 0.1951 - val_accuracy: 0.6177\n",
      "Epoch 32/60\n",
      "782/782 [==============================] - 4s 5ms/step - loss: 0.1485 - accuracy: 0.7204 - val_loss: 0.1945 - val_accuracy: 0.6188\n",
      "Epoch 33/60\n",
      "782/782 [==============================] - 5s 6ms/step - loss: 0.1460 - accuracy: 0.7273 - val_loss: 0.1942 - val_accuracy: 0.6175\n",
      "Epoch 34/60\n",
      "782/782 [==============================] - 4s 6ms/step - loss: 0.1438 - accuracy: 0.7329 - val_loss: 0.1934 - val_accuracy: 0.6219\n",
      "Epoch 35/60\n",
      "782/782 [==============================] - 4s 5ms/step - loss: 0.1414 - accuracy: 0.7395 - val_loss: 0.1924 - val_accuracy: 0.6240\n",
      "Epoch 36/60\n",
      "782/782 [==============================] - 5s 6ms/step - loss: 0.1393 - accuracy: 0.7438 - val_loss: 0.1920 - val_accuracy: 0.6272\n",
      "Epoch 37/60\n",
      "782/782 [==============================] - 4s 6ms/step - loss: 0.1371 - accuracy: 0.7492 - val_loss: 0.1923 - val_accuracy: 0.6292\n",
      "Epoch 38/60\n",
      "782/782 [==============================] - 4s 5ms/step - loss: 0.1350 - accuracy: 0.7552 - val_loss: 0.1922 - val_accuracy: 0.6310\n",
      "Epoch 39/60\n",
      "782/782 [==============================] - 5s 6ms/step - loss: 0.1329 - accuracy: 0.7600 - val_loss: 0.1913 - val_accuracy: 0.6339\n",
      "Epoch 40/60\n",
      "782/782 [==============================] - 4s 5ms/step - loss: 0.1309 - accuracy: 0.7655 - val_loss: 0.1907 - val_accuracy: 0.6342\n",
      "Epoch 41/60\n",
      "782/782 [==============================] - 4s 5ms/step - loss: 0.1289 - accuracy: 0.7700 - val_loss: 0.1904 - val_accuracy: 0.6360\n",
      "Epoch 42/60\n",
      "782/782 [==============================] - 5s 6ms/step - loss: 0.1269 - accuracy: 0.7739 - val_loss: 0.1894 - val_accuracy: 0.6401\n",
      "Epoch 43/60\n",
      "782/782 [==============================] - 4s 6ms/step - loss: 0.1249 - accuracy: 0.7779 - val_loss: 0.1900 - val_accuracy: 0.6360\n",
      "Epoch 44/60\n",
      "782/782 [==============================] - 5s 6ms/step - loss: 0.1231 - accuracy: 0.7834 - val_loss: 0.1893 - val_accuracy: 0.6401\n",
      "Epoch 45/60\n",
      "782/782 [==============================] - 4s 6ms/step - loss: 0.1212 - accuracy: 0.7869 - val_loss: 0.1900 - val_accuracy: 0.6389\n",
      "Epoch 46/60\n",
      "782/782 [==============================] - 4s 5ms/step - loss: 0.1195 - accuracy: 0.7920 - val_loss: 0.1893 - val_accuracy: 0.6431\n",
      "Epoch 47/60\n",
      "782/782 [==============================] - 5s 7ms/step - loss: 0.1174 - accuracy: 0.7969 - val_loss: 0.1881 - val_accuracy: 0.6464\n",
      "Epoch 48/60\n",
      "782/782 [==============================] - 4s 5ms/step - loss: 0.1158 - accuracy: 0.8007 - val_loss: 0.1887 - val_accuracy: 0.6458\n",
      "Epoch 49/60\n",
      "782/782 [==============================] - 4s 6ms/step - loss: 0.1139 - accuracy: 0.8045 - val_loss: 0.1884 - val_accuracy: 0.6450\n",
      "Epoch 50/60\n",
      "782/782 [==============================] - 5s 7ms/step - loss: 0.1123 - accuracy: 0.8075 - val_loss: 0.1897 - val_accuracy: 0.6452\n",
      "Epoch 51/60\n",
      "782/782 [==============================] - 4s 6ms/step - loss: 0.1104 - accuracy: 0.8125 - val_loss: 0.1896 - val_accuracy: 0.6485\n",
      "Epoch 52/60\n",
      "782/782 [==============================] - 5s 6ms/step - loss: 0.1088 - accuracy: 0.8172 - val_loss: 0.1887 - val_accuracy: 0.6484\n",
      "Epoch 53/60\n",
      "782/782 [==============================] - 5s 6ms/step - loss: 0.1072 - accuracy: 0.8206 - val_loss: 0.1888 - val_accuracy: 0.6483\n",
      "Epoch 54/60\n",
      "782/782 [==============================] - 4s 5ms/step - loss: 0.1055 - accuracy: 0.8238 - val_loss: 0.1889 - val_accuracy: 0.6497\n",
      "Epoch 55/60\n",
      "782/782 [==============================] - 4s 6ms/step - loss: 0.1037 - accuracy: 0.8293 - val_loss: 0.1890 - val_accuracy: 0.6528\n",
      "Epoch 56/60\n",
      "782/782 [==============================] - 4s 6ms/step - loss: 0.1022 - accuracy: 0.8324 - val_loss: 0.1891 - val_accuracy: 0.6529\n",
      "Epoch 57/60\n",
      "782/782 [==============================] - 4s 5ms/step - loss: 0.1005 - accuracy: 0.8367 - val_loss: 0.1901 - val_accuracy: 0.6513\n",
      "Epoch 58/60\n",
      "782/782 [==============================] - 5s 6ms/step - loss: 0.0990 - accuracy: 0.8407 - val_loss: 0.1895 - val_accuracy: 0.6526\n",
      "Epoch 59/60\n",
      "782/782 [==============================] - 4s 5ms/step - loss: 0.0975 - accuracy: 0.8422 - val_loss: 0.1903 - val_accuracy: 0.6534\n",
      "Epoch 60/60\n",
      "782/782 [==============================] - 4s 5ms/step - loss: 0.0960 - accuracy: 0.8459 - val_loss: 0.1901 - val_accuracy: 0.6540\n"
     ]
    },
    {
     "data": {
      "text/plain": [
       "<keras.callbacks.History at 0x7f78b829b280>"
      ]
     },
     "execution_count": 85,
     "metadata": {},
     "output_type": "execute_result"
    }
   ],
   "source": [
    "#<Train your model on the entire training set (50K samples)>\n",
    "model.fit(x=x_train,y=y_train_vec,epochs=60,batch_size=64,validation_data=(x_test,y_test_vec))"
   ]
  },
  {
   "cell_type": "markdown",
   "metadata": {
    "id": "f5Zfm8BlpyD4"
   },
   "source": [
    "## 5. Evaluate the model on the test set (5 points)\n",
    "\n",
    "Do NOT use the test set until now. Make sure that your model parameters and hyper-parameters are independent of the test set."
   ]
  },
  {
   "cell_type": "code",
   "execution_count": null,
   "metadata": {
    "colab": {
     "base_uri": "https://localhost:8080/"
    },
    "id": "ZdQoWZuApyD4",
    "outputId": "0bf5ae3c-5e20-4a70-f653-6dd60214836e"
   },
   "outputs": [
    {
     "name": "stdout",
     "output_type": "stream",
     "text": [
      "313/313 [==============================] - 1s 4ms/step - loss: 0.1901 - accuracy: 0.6540\n"
     ]
    }
   ],
   "source": [
    "# Evaluate your model performance (testing accuracy) on testing data.\n",
    "acc_score = model.evaluate(x_test,y_test_vec)"
   ]
  },
  {
   "cell_type": "code",
   "execution_count": 10,
   "metadata": {},
   "outputs": [],
   "source": [
    "# The model trained on the entire dataset returned 65% accuracy, which isn't terrible for a model where only the \n",
    "# hyperparameters have been tuned. Next, the study will add Batch Normalization and Dropout layers to reduce overfitting."
   ]
  },
  {
   "cell_type": "markdown",
   "metadata": {
    "id": "0aux4fyrpyD4"
   },
   "source": [
    "## 6. Building model with new structure (25 points)\n",
    "- In this section, you can build your model with adding new layers (e.g, BN layer or dropout layer, ...).\n",
    "- If you want to regularize a ```Conv/Dense layer```, you should place a ```Dropout layer``` before the ```Conv/Dense layer```.\n",
    "- You can try to compare their loss curve and testing accuracy and analyze your findings.\n",
    "- You need to try at lease two different model structures."
   ]
  },
  {
   "cell_type": "code",
   "execution_count": 15,
   "metadata": {},
   "outputs": [],
   "source": [
    "# Next,this study experimented with 15-20 variations of layers, where the dropout and batch normalization layers are \n",
    "# repositioned to see which version is most efficient."
   ]
  },
  {
   "cell_type": "code",
   "execution_count": null,
   "metadata": {
    "id": "E73w5LHmpyD4"
   },
   "outputs": [],
   "source": [
    "from keras.layers import Dropout\n",
    "model = Sequential()\n",
    "\n",
    "model.add(Conv2D(32,kernel_size=(3,3),input_shape=(32,32,3)))\n",
    "#model.add(BatchNormalization())\n",
    "model.add(Activation('relu'))\n",
    "model.add(MaxPooling2D(pool_size=(2,2)))\n",
    "\n",
    "model.add(Dropout(0.5))\n",
    "model.add(Conv2D(64,kernel_size=(4,4)))\n",
    "#model.add(BatchNormalization())\n",
    "model.add(Activation('relu'))\n",
    "model.add(MaxPooling2D(pool_size=(2,2)))\n",
    "\n",
    "model.add(Flatten())\n",
    "model.add(Dense(256))\n",
    "model.add(BatchNormalization())\n",
    "model.add(Activation('relu'))\n",
    "\n",
    "model.add(Dense(10))\n",
    "model.add(Activation('softmax'))"
   ]
  },
  {
   "cell_type": "code",
   "execution_count": null,
   "metadata": {
    "id": "9wUY0xw29aoi"
   },
   "outputs": [],
   "source": [
    "model.compile(optimizer=adam,loss='binary_crossentropy',metrics='accuracy')"
   ]
  },
  {
   "cell_type": "code",
   "execution_count": null,
   "metadata": {
    "colab": {
     "base_uri": "https://localhost:8080/"
    },
    "id": "tEpGzeGp9aoi",
    "outputId": "3b3c985b-1fa7-4c07-c23d-3ffbc92794eb"
   },
   "outputs": [
    {
     "name": "stdout",
     "output_type": "stream",
     "text": [
      "Epoch 1/60\n",
      "782/782 [==============================] - 6s 7ms/step - loss: 0.4790 - accuracy: 0.1945 - val_loss: 0.3530 - val_accuracy: 0.1913\n",
      "Epoch 2/60\n",
      "782/782 [==============================] - 5s 7ms/step - loss: 0.3362 - accuracy: 0.2808 - val_loss: 0.3184 - val_accuracy: 0.2090\n",
      "Epoch 3/60\n",
      "782/782 [==============================] - 5s 6ms/step - loss: 0.2953 - accuracy: 0.3328 - val_loss: 0.3033 - val_accuracy: 0.2198\n",
      "Epoch 4/60\n",
      "782/782 [==============================] - 5s 7ms/step - loss: 0.2741 - accuracy: 0.3786 - val_loss: 0.2990 - val_accuracy: 0.2436\n",
      "Epoch 5/60\n",
      "782/782 [==============================] - 5s 6ms/step - loss: 0.2605 - accuracy: 0.4054 - val_loss: 0.2911 - val_accuracy: 0.2731\n",
      "Epoch 6/60\n",
      "782/782 [==============================] - 5s 6ms/step - loss: 0.2510 - accuracy: 0.4258 - val_loss: 0.2822 - val_accuracy: 0.3085\n",
      "Epoch 7/60\n",
      "782/782 [==============================] - 5s 7ms/step - loss: 0.2437 - accuracy: 0.4455 - val_loss: 0.2855 - val_accuracy: 0.3126\n",
      "Epoch 8/60\n",
      "782/782 [==============================] - 5s 6ms/step - loss: 0.2374 - accuracy: 0.4618 - val_loss: 0.2769 - val_accuracy: 0.3382\n",
      "Epoch 9/60\n",
      "782/782 [==============================] - 5s 7ms/step - loss: 0.2323 - accuracy: 0.4760 - val_loss: 0.2756 - val_accuracy: 0.3438\n",
      "Epoch 10/60\n",
      "782/782 [==============================] - 5s 6ms/step - loss: 0.2275 - accuracy: 0.4911 - val_loss: 0.2749 - val_accuracy: 0.3559\n",
      "Epoch 11/60\n",
      "782/782 [==============================] - 4s 6ms/step - loss: 0.2238 - accuracy: 0.5015 - val_loss: 0.2698 - val_accuracy: 0.3710\n",
      "Epoch 12/60\n",
      "782/782 [==============================] - 5s 7ms/step - loss: 0.2200 - accuracy: 0.5089 - val_loss: 0.2677 - val_accuracy: 0.3812\n",
      "Epoch 13/60\n",
      "782/782 [==============================] - 5s 6ms/step - loss: 0.2163 - accuracy: 0.5237 - val_loss: 0.2587 - val_accuracy: 0.4006\n",
      "Epoch 14/60\n",
      "782/782 [==============================] - 5s 7ms/step - loss: 0.2135 - accuracy: 0.5313 - val_loss: 0.2711 - val_accuracy: 0.3819\n",
      "Epoch 15/60\n",
      "782/782 [==============================] - 4s 6ms/step - loss: 0.2110 - accuracy: 0.5360 - val_loss: 0.2548 - val_accuracy: 0.4082\n",
      "Epoch 16/60\n",
      "782/782 [==============================] - 4s 6ms/step - loss: 0.2083 - accuracy: 0.5465 - val_loss: 0.2502 - val_accuracy: 0.4238\n",
      "Epoch 17/60\n",
      "782/782 [==============================] - 5s 7ms/step - loss: 0.2062 - accuracy: 0.5517 - val_loss: 0.2527 - val_accuracy: 0.4227\n",
      "Epoch 18/60\n",
      "782/782 [==============================] - 5s 6ms/step - loss: 0.2036 - accuracy: 0.5578 - val_loss: 0.2494 - val_accuracy: 0.4306\n",
      "Epoch 19/60\n",
      "782/782 [==============================] - 5s 7ms/step - loss: 0.2019 - accuracy: 0.5627 - val_loss: 0.2399 - val_accuracy: 0.4525\n",
      "Epoch 20/60\n",
      "782/782 [==============================] - 5s 6ms/step - loss: 0.1998 - accuracy: 0.5680 - val_loss: 0.2412 - val_accuracy: 0.4480\n",
      "Epoch 21/60\n",
      "782/782 [==============================] - 4s 6ms/step - loss: 0.1983 - accuracy: 0.5718 - val_loss: 0.2419 - val_accuracy: 0.4520\n",
      "Epoch 22/60\n",
      "782/782 [==============================] - 5s 6ms/step - loss: 0.1966 - accuracy: 0.5768 - val_loss: 0.2324 - val_accuracy: 0.4713\n",
      "Epoch 23/60\n",
      "782/782 [==============================] - 4s 6ms/step - loss: 0.1951 - accuracy: 0.5820 - val_loss: 0.2352 - val_accuracy: 0.4662\n",
      "Epoch 24/60\n",
      "782/782 [==============================] - 5s 6ms/step - loss: 0.1928 - accuracy: 0.5888 - val_loss: 0.2266 - val_accuracy: 0.4877\n",
      "Epoch 25/60\n",
      "782/782 [==============================] - 5s 6ms/step - loss: 0.1917 - accuracy: 0.5891 - val_loss: 0.2283 - val_accuracy: 0.4824\n",
      "Epoch 26/60\n",
      "782/782 [==============================] - 4s 6ms/step - loss: 0.1904 - accuracy: 0.5929 - val_loss: 0.2241 - val_accuracy: 0.4970\n",
      "Epoch 27/60\n",
      "782/782 [==============================] - 5s 7ms/step - loss: 0.1885 - accuracy: 0.5994 - val_loss: 0.2163 - val_accuracy: 0.5142\n",
      "Epoch 28/60\n",
      "782/782 [==============================] - 4s 6ms/step - loss: 0.1871 - accuracy: 0.6027 - val_loss: 0.2201 - val_accuracy: 0.5056\n",
      "Epoch 29/60\n",
      "782/782 [==============================] - 5s 6ms/step - loss: 0.1860 - accuracy: 0.6080 - val_loss: 0.2135 - val_accuracy: 0.5249\n",
      "Epoch 30/60\n",
      "782/782 [==============================] - 5s 6ms/step - loss: 0.1849 - accuracy: 0.6101 - val_loss: 0.2156 - val_accuracy: 0.5148\n",
      "Epoch 31/60\n",
      "782/782 [==============================] - 5s 6ms/step - loss: 0.1833 - accuracy: 0.6134 - val_loss: 0.2104 - val_accuracy: 0.5258\n",
      "Epoch 32/60\n",
      "782/782 [==============================] - 5s 7ms/step - loss: 0.1818 - accuracy: 0.6177 - val_loss: 0.2054 - val_accuracy: 0.5422\n",
      "Epoch 33/60\n",
      "782/782 [==============================] - 5s 6ms/step - loss: 0.1811 - accuracy: 0.6184 - val_loss: 0.2070 - val_accuracy: 0.5377\n",
      "Epoch 34/60\n",
      "782/782 [==============================] - 5s 6ms/step - loss: 0.1800 - accuracy: 0.6224 - val_loss: 0.2032 - val_accuracy: 0.5462\n",
      "Epoch 35/60\n",
      "782/782 [==============================] - 5s 7ms/step - loss: 0.1782 - accuracy: 0.6289 - val_loss: 0.2007 - val_accuracy: 0.5534\n",
      "Epoch 36/60\n",
      "782/782 [==============================] - 5s 6ms/step - loss: 0.1775 - accuracy: 0.6298 - val_loss: 0.2001 - val_accuracy: 0.5588\n",
      "Epoch 37/60\n",
      "782/782 [==============================] - 5s 7ms/step - loss: 0.1763 - accuracy: 0.6326 - val_loss: 0.2016 - val_accuracy: 0.5510\n",
      "Epoch 38/60\n",
      "782/782 [==============================] - 5s 6ms/step - loss: 0.1755 - accuracy: 0.6336 - val_loss: 0.1924 - val_accuracy: 0.5764\n",
      "Epoch 39/60\n",
      "782/782 [==============================] - 5s 6ms/step - loss: 0.1742 - accuracy: 0.6365 - val_loss: 0.1919 - val_accuracy: 0.5796\n",
      "Epoch 40/60\n",
      "782/782 [==============================] - 5s 7ms/step - loss: 0.1727 - accuracy: 0.6441 - val_loss: 0.1938 - val_accuracy: 0.5719\n",
      "Epoch 41/60\n",
      "782/782 [==============================] - 4s 6ms/step - loss: 0.1723 - accuracy: 0.6435 - val_loss: 0.1879 - val_accuracy: 0.5840\n",
      "Epoch 42/60\n",
      "782/782 [==============================] - 5s 7ms/step - loss: 0.1713 - accuracy: 0.6445 - val_loss: 0.1863 - val_accuracy: 0.5934\n",
      "Epoch 43/60\n",
      "782/782 [==============================] - 5s 6ms/step - loss: 0.1702 - accuracy: 0.6492 - val_loss: 0.1875 - val_accuracy: 0.5919\n",
      "Epoch 44/60\n",
      "782/782 [==============================] - 5s 6ms/step - loss: 0.1698 - accuracy: 0.6499 - val_loss: 0.1860 - val_accuracy: 0.5944\n",
      "Epoch 45/60\n",
      "782/782 [==============================] - 5s 7ms/step - loss: 0.1687 - accuracy: 0.6536 - val_loss: 0.1818 - val_accuracy: 0.6054\n",
      "Epoch 46/60\n",
      "782/782 [==============================] - 5s 6ms/step - loss: 0.1678 - accuracy: 0.6534 - val_loss: 0.1797 - val_accuracy: 0.6110\n",
      "Epoch 47/60\n",
      "782/782 [==============================] - 5s 7ms/step - loss: 0.1668 - accuracy: 0.6578 - val_loss: 0.1783 - val_accuracy: 0.6097\n",
      "Epoch 48/60\n",
      "782/782 [==============================] - 5s 6ms/step - loss: 0.1661 - accuracy: 0.6580 - val_loss: 0.1800 - val_accuracy: 0.6099\n",
      "Epoch 49/60\n",
      "782/782 [==============================] - 5s 6ms/step - loss: 0.1653 - accuracy: 0.6596 - val_loss: 0.1771 - val_accuracy: 0.6149\n",
      "Epoch 50/60\n",
      "782/782 [==============================] - 5s 7ms/step - loss: 0.1646 - accuracy: 0.6623 - val_loss: 0.1744 - val_accuracy: 0.6230\n",
      "Epoch 51/60\n",
      "782/782 [==============================] - 5s 6ms/step - loss: 0.1641 - accuracy: 0.6670 - val_loss: 0.1717 - val_accuracy: 0.6305\n",
      "Epoch 52/60\n",
      "782/782 [==============================] - 5s 7ms/step - loss: 0.1627 - accuracy: 0.6684 - val_loss: 0.1709 - val_accuracy: 0.6316\n",
      "Epoch 53/60\n",
      "782/782 [==============================] - 5s 6ms/step - loss: 0.1621 - accuracy: 0.6700 - val_loss: 0.1684 - val_accuracy: 0.6384\n",
      "Epoch 54/60\n",
      "782/782 [==============================] - 5s 6ms/step - loss: 0.1617 - accuracy: 0.6721 - val_loss: 0.1720 - val_accuracy: 0.6277\n",
      "Epoch 55/60\n",
      "782/782 [==============================] - 5s 7ms/step - loss: 0.1608 - accuracy: 0.6723 - val_loss: 0.1715 - val_accuracy: 0.6293\n",
      "Epoch 56/60\n",
      "782/782 [==============================] - 5s 6ms/step - loss: 0.1598 - accuracy: 0.6743 - val_loss: 0.1666 - val_accuracy: 0.6425\n",
      "Epoch 57/60\n",
      "782/782 [==============================] - 5s 7ms/step - loss: 0.1590 - accuracy: 0.6804 - val_loss: 0.1667 - val_accuracy: 0.6418\n",
      "Epoch 58/60\n",
      "782/782 [==============================] - 5s 6ms/step - loss: 0.1579 - accuracy: 0.6791 - val_loss: 0.1661 - val_accuracy: 0.6441\n",
      "Epoch 59/60\n",
      "782/782 [==============================] - 5s 6ms/step - loss: 0.1575 - accuracy: 0.6813 - val_loss: 0.1635 - val_accuracy: 0.6532\n",
      "Epoch 60/60\n",
      "782/782 [==============================] - 5s 6ms/step - loss: 0.1568 - accuracy: 0.6846 - val_loss: 0.1617 - val_accuracy: 0.6540\n"
     ]
    },
    {
     "data": {
      "text/plain": [
       "<keras.callbacks.History at 0x7f79529efcd0>"
      ]
     },
     "execution_count": 92,
     "metadata": {},
     "output_type": "execute_result"
    }
   ],
   "source": [
    "model.fit(x=x_train,y=y_train_vec,epochs=60,batch_size=64,validation_data=(x_val,y_val))"
   ]
  },
  {
   "cell_type": "code",
   "execution_count": null,
   "metadata": {
    "colab": {
     "base_uri": "https://localhost:8080/",
     "height": 284
    },
    "id": "HQAvmOpu9aoj",
    "outputId": "fa4eff18-f1c5-432c-f824-e8e9c17c2104"
   },
   "outputs": [
    {
     "data": {
      "text/plain": [
       "<matplotlib.legend.Legend at 0x7f7952835460>"
      ]
     },
     "execution_count": 93,
     "metadata": {},
     "output_type": "execute_result"
    },
    {
     "data": {
      "image/png": "[encoded data removed]",
      "text/plain": [
       "<Figure size 432x288 with 1 Axes>"
      ]
     },
     "metadata": {
      "needs_background": "light"
     },
     "output_type": "display_data"
    }
   ],
   "source": [
    "import pandas as pd\n",
    "losses = pd.DataFrame(model.history.history)\n",
    "plt.plot(losses['accuracy'],label='Train Accuracy')\n",
    "plt.plot(losses['val_accuracy'],label='Validation Accuracy')\n",
    "plt.legend()"
   ]
  },
  {
   "cell_type": "code",
   "execution_count": 13,
   "metadata": {},
   "outputs": [],
   "source": [
    "# The addition of batch normalization and dropout layers returned immediate improvement of the initial model."
   ]
  },
  {
   "cell_type": "code",
   "execution_count": null,
   "metadata": {
    "colab": {
     "base_uri": "https://localhost:8080/",
     "height": 283
    },
    "id": "1mBOxuFv9aoj",
    "outputId": "0d10ccce-7440-4272-d497-91c84b19b30c"
   },
   "outputs": [
    {
     "data": {
      "text/plain": [
       "[<matplotlib.lines.Line2D at 0x7f795280b8e0>]"
      ]
     },
     "execution_count": 94,
     "metadata": {},
     "output_type": "execute_result"
    },
    {
     "data": {
      "image/png": "[encoded data removed]",
      "text/plain": [
       "<Figure size 432x288 with 1 Axes>"
      ]
     },
     "metadata": {
      "needs_background": "light"
     },
     "output_type": "display_data"
    }
   ],
   "source": [
    "plt.plot(losses['loss'],label='Training Loss')\n",
    "plt.plot(losses['val_loss'],label='Validation Loss')"
   ]
  },
  {
   "cell_type": "code",
   "execution_count": 14,
   "metadata": {},
   "outputs": [],
   "source": [
    "#Above we can see that the validation loss and training loss converge much more efficiently than the initial model."
   ]
  },
  {
   "cell_type": "code",
   "execution_count": null,
   "metadata": {
    "id": "Lhz6afdi9aoj"
   },
   "outputs": [],
   "source": [
    "from keras.layers import Dropout\n",
    "model = Sequential()\n",
    "\n",
    "model.add(Conv2D(32,kernel_size=(3,3),input_shape=(32,32,3)))\n",
    "model.add(BatchNormalization())\n",
    "model.add(Activation('relu'))\n",
    "model.add(MaxPooling2D(pool_size=(2,2)))\n",
    "\n",
    "#model.add(Dropout(0.5))\n",
    "model.add(Conv2D(64,kernel_size=(4,4)))\n",
    "model.add(BatchNormalization())\n",
    "model.add(Activation('relu'))\n",
    "model.add(MaxPooling2D(pool_size=(2,2)))\n",
    "\n",
    "model.add(Flatten())\n",
    "model.add(Dropout(0.5))\n",
    "model.add(Dense(256))\n",
    "model.add(BatchNormalization())\n",
    "model.add(Activation('relu'))\n",
    "\n",
    "model.add(Dense(10))\n",
    "model.add(Activation('softmax'))"
   ]
  },
  {
   "cell_type": "code",
   "execution_count": null,
   "metadata": {
    "id": "QICoDuU0EosT"
   },
   "outputs": [],
   "source": [
    "model.compile(optimizer=adam,loss='binary_crossentropy',metrics='accuracy')"
   ]
  },
  {
   "cell_type": "code",
   "execution_count": null,
   "metadata": {
    "colab": {
     "base_uri": "https://localhost:8080/"
    },
    "id": "NDLMkMcPExhH",
    "outputId": "3f445c78-f45f-40de-8574-d27e0bd94cc2"
   },
   "outputs": [
    {
     "name": "stdout",
     "output_type": "stream",
     "text": [
      "Epoch 1/60\n",
      "782/782 [==============================] - 6s 7ms/step - loss: 0.4221 - accuracy: 0.2464 - val_loss: 0.3736 - val_accuracy: 0.4035\n",
      "Epoch 2/60\n",
      "782/782 [==============================] - 6s 7ms/step - loss: 0.3041 - accuracy: 0.3360 - val_loss: 0.3125 - val_accuracy: 0.4442\n",
      "Epoch 3/60\n",
      "782/782 [==============================] - 5s 6ms/step - loss: 0.2716 - accuracy: 0.3897 - val_loss: 0.2840 - val_accuracy: 0.4666\n",
      "Epoch 4/60\n",
      "782/782 [==============================] - 5s 7ms/step - loss: 0.2555 - accuracy: 0.4190 - val_loss: 0.2661 - val_accuracy: 0.4833\n",
      "Epoch 5/60\n",
      "782/782 [==============================] - 5s 6ms/step - loss: 0.2452 - accuracy: 0.4441 - val_loss: 0.2547 - val_accuracy: 0.5003\n",
      "Epoch 6/60\n",
      "782/782 [==============================] - 5s 6ms/step - loss: 0.2380 - accuracy: 0.4615 - val_loss: 0.2464 - val_accuracy: 0.5118\n",
      "Epoch 7/60\n",
      "782/782 [==============================] - 6s 7ms/step - loss: 0.2321 - accuracy: 0.4765 - val_loss: 0.2394 - val_accuracy: 0.5259\n",
      "Epoch 8/60\n",
      "782/782 [==============================] - 5s 6ms/step - loss: 0.2270 - accuracy: 0.4936 - val_loss: 0.2331 - val_accuracy: 0.5342\n",
      "Epoch 9/60\n",
      "782/782 [==============================] - 6s 7ms/step - loss: 0.2232 - accuracy: 0.5025 - val_loss: 0.2284 - val_accuracy: 0.5437\n",
      "Epoch 10/60\n",
      "782/782 [==============================] - 5s 6ms/step - loss: 0.2194 - accuracy: 0.5113 - val_loss: 0.2241 - val_accuracy: 0.5520\n",
      "Epoch 11/60\n",
      "782/782 [==============================] - 7s 9ms/step - loss: 0.2162 - accuracy: 0.5229 - val_loss: 0.2206 - val_accuracy: 0.5569\n",
      "Epoch 12/60\n",
      "782/782 [==============================] - 5s 6ms/step - loss: 0.2133 - accuracy: 0.5296 - val_loss: 0.2171 - val_accuracy: 0.5645\n",
      "Epoch 13/60\n",
      "782/782 [==============================] - 6s 7ms/step - loss: 0.2106 - accuracy: 0.5377 - val_loss: 0.2136 - val_accuracy: 0.5725\n",
      "Epoch 14/60\n",
      "782/782 [==============================] - 5s 6ms/step - loss: 0.2080 - accuracy: 0.5434 - val_loss: 0.2106 - val_accuracy: 0.5778\n",
      "Epoch 15/60\n",
      "782/782 [==============================] - 5s 6ms/step - loss: 0.2060 - accuracy: 0.5496 - val_loss: 0.2084 - val_accuracy: 0.5802\n",
      "Epoch 16/60\n",
      "782/782 [==============================] - 6s 7ms/step - loss: 0.2032 - accuracy: 0.5566 - val_loss: 0.2053 - val_accuracy: 0.5894\n",
      "Epoch 17/60\n",
      "782/782 [==============================] - 5s 6ms/step - loss: 0.2012 - accuracy: 0.5626 - val_loss: 0.2035 - val_accuracy: 0.5920\n",
      "Epoch 18/60\n",
      "782/782 [==============================] - 5s 7ms/step - loss: 0.1995 - accuracy: 0.5674 - val_loss: 0.2009 - val_accuracy: 0.5969\n",
      "Epoch 19/60\n",
      "782/782 [==============================] - 5s 6ms/step - loss: 0.1970 - accuracy: 0.5749 - val_loss: 0.1985 - val_accuracy: 0.6034\n",
      "Epoch 20/60\n",
      "782/782 [==============================] - 5s 6ms/step - loss: 0.1956 - accuracy: 0.5777 - val_loss: 0.1968 - val_accuracy: 0.6081\n",
      "Epoch 21/60\n",
      "782/782 [==============================] - 5s 7ms/step - loss: 0.1940 - accuracy: 0.5840 - val_loss: 0.1948 - val_accuracy: 0.6114\n",
      "Epoch 22/60\n",
      "782/782 [==============================] - 5s 7ms/step - loss: 0.1921 - accuracy: 0.5868 - val_loss: 0.1925 - val_accuracy: 0.6195\n",
      "Epoch 23/60\n",
      "782/782 [==============================] - 6s 8ms/step - loss: 0.1909 - accuracy: 0.5904 - val_loss: 0.1914 - val_accuracy: 0.6217\n",
      "Epoch 24/60\n",
      "782/782 [==============================] - 5s 6ms/step - loss: 0.1891 - accuracy: 0.5939 - val_loss: 0.1900 - val_accuracy: 0.6223\n",
      "Epoch 25/60\n",
      "782/782 [==============================] - 6s 7ms/step - loss: 0.1879 - accuracy: 0.6004 - val_loss: 0.1877 - val_accuracy: 0.6287\n",
      "Epoch 26/60\n",
      "782/782 [==============================] - 5s 7ms/step - loss: 0.1860 - accuracy: 0.6039 - val_loss: 0.1860 - val_accuracy: 0.6343\n",
      "Epoch 27/60\n",
      "782/782 [==============================] - 5s 7ms/step - loss: 0.1846 - accuracy: 0.6065 - val_loss: 0.1843 - val_accuracy: 0.6379\n",
      "Epoch 28/60\n",
      "782/782 [==============================] - 5s 7ms/step - loss: 0.1836 - accuracy: 0.6095 - val_loss: 0.1832 - val_accuracy: 0.6383\n",
      "Epoch 29/60\n",
      "782/782 [==============================] - 5s 6ms/step - loss: 0.1821 - accuracy: 0.6135 - val_loss: 0.1820 - val_accuracy: 0.6453\n",
      "Epoch 30/60\n",
      "782/782 [==============================] - 5s 7ms/step - loss: 0.1811 - accuracy: 0.6155 - val_loss: 0.1806 - val_accuracy: 0.6470\n",
      "Epoch 31/60\n",
      "782/782 [==============================] - 6s 8ms/step - loss: 0.1798 - accuracy: 0.6193 - val_loss: 0.1793 - val_accuracy: 0.6483\n",
      "Epoch 32/60\n",
      "782/782 [==============================] - 6s 7ms/step - loss: 0.1786 - accuracy: 0.6234 - val_loss: 0.1782 - val_accuracy: 0.6510\n",
      "Epoch 33/60\n",
      "782/782 [==============================] - 5s 6ms/step - loss: 0.1779 - accuracy: 0.6252 - val_loss: 0.1769 - val_accuracy: 0.6528\n",
      "Epoch 34/60\n",
      "782/782 [==============================] - 5s 7ms/step - loss: 0.1763 - accuracy: 0.6282 - val_loss: 0.1757 - val_accuracy: 0.6543\n",
      "Epoch 35/60\n",
      "782/782 [==============================] - 5s 7ms/step - loss: 0.1761 - accuracy: 0.6293 - val_loss: 0.1748 - val_accuracy: 0.6607\n",
      "Epoch 36/60\n",
      "782/782 [==============================] - 5s 7ms/step - loss: 0.1747 - accuracy: 0.6312 - val_loss: 0.1734 - val_accuracy: 0.6604\n",
      "Epoch 37/60\n",
      "782/782 [==============================] - 6s 7ms/step - loss: 0.1739 - accuracy: 0.6331 - val_loss: 0.1727 - val_accuracy: 0.6622\n",
      "Epoch 38/60\n",
      "782/782 [==============================] - 5s 6ms/step - loss: 0.1736 - accuracy: 0.6331 - val_loss: 0.1714 - val_accuracy: 0.6664\n",
      "Epoch 39/60\n",
      "782/782 [==============================] - 5s 7ms/step - loss: 0.1722 - accuracy: 0.6392 - val_loss: 0.1710 - val_accuracy: 0.6667\n",
      "Epoch 40/60\n",
      "782/782 [==============================] - 5s 6ms/step - loss: 0.1714 - accuracy: 0.6400 - val_loss: 0.1696 - val_accuracy: 0.6715\n",
      "Epoch 41/60\n",
      "782/782 [==============================] - 5s 6ms/step - loss: 0.1705 - accuracy: 0.6431 - val_loss: 0.1691 - val_accuracy: 0.6714\n",
      "Epoch 42/60\n",
      "782/782 [==============================] - 5s 7ms/step - loss: 0.1701 - accuracy: 0.6444 - val_loss: 0.1682 - val_accuracy: 0.6732\n",
      "Epoch 43/60\n",
      "782/782 [==============================] - 5s 6ms/step - loss: 0.1690 - accuracy: 0.6466 - val_loss: 0.1675 - val_accuracy: 0.6759\n",
      "Epoch 44/60\n",
      "782/782 [==============================] - 5s 7ms/step - loss: 0.1678 - accuracy: 0.6494 - val_loss: 0.1661 - val_accuracy: 0.6775\n",
      "Epoch 45/60\n",
      "782/782 [==============================] - 5s 6ms/step - loss: 0.1680 - accuracy: 0.6492 - val_loss: 0.1657 - val_accuracy: 0.6774\n",
      "Epoch 46/60\n",
      "782/782 [==============================] - 5s 7ms/step - loss: 0.1670 - accuracy: 0.6500 - val_loss: 0.1653 - val_accuracy: 0.6791\n",
      "Epoch 47/60\n",
      "782/782 [==============================] - 6s 7ms/step - loss: 0.1662 - accuracy: 0.6532 - val_loss: 0.1640 - val_accuracy: 0.6825\n",
      "Epoch 48/60\n",
      "782/782 [==============================] - 5s 6ms/step - loss: 0.1652 - accuracy: 0.6558 - val_loss: 0.1635 - val_accuracy: 0.6818\n",
      "Epoch 49/60\n",
      "782/782 [==============================] - 6s 8ms/step - loss: 0.1652 - accuracy: 0.6550 - val_loss: 0.1626 - val_accuracy: 0.6833\n",
      "Epoch 50/60\n",
      "782/782 [==============================] - 5s 6ms/step - loss: 0.1639 - accuracy: 0.6605 - val_loss: 0.1622 - val_accuracy: 0.6849\n",
      "Epoch 51/60\n",
      "782/782 [==============================] - 6s 7ms/step - loss: 0.1634 - accuracy: 0.6580 - val_loss: 0.1614 - val_accuracy: 0.6887\n",
      "Epoch 52/60\n",
      "782/782 [==============================] - 5s 6ms/step - loss: 0.1626 - accuracy: 0.6602 - val_loss: 0.1605 - val_accuracy: 0.6884\n",
      "Epoch 53/60\n",
      "782/782 [==============================] - 5s 6ms/step - loss: 0.1619 - accuracy: 0.6656 - val_loss: 0.1595 - val_accuracy: 0.6928\n",
      "Epoch 54/60\n",
      "782/782 [==============================] - 6s 7ms/step - loss: 0.1615 - accuracy: 0.6622 - val_loss: 0.1596 - val_accuracy: 0.6896\n",
      "Epoch 55/60\n",
      "782/782 [==============================] - 5s 6ms/step - loss: 0.1610 - accuracy: 0.6660 - val_loss: 0.1584 - val_accuracy: 0.6914\n",
      "Epoch 56/60\n",
      "782/782 [==============================] - 6s 7ms/step - loss: 0.1603 - accuracy: 0.6679 - val_loss: 0.1580 - val_accuracy: 0.6931\n",
      "Epoch 57/60\n",
      "782/782 [==============================] - 5s 6ms/step - loss: 0.1601 - accuracy: 0.6689 - val_loss: 0.1573 - val_accuracy: 0.6945\n",
      "Epoch 58/60\n",
      "782/782 [==============================] - 6s 7ms/step - loss: 0.1591 - accuracy: 0.6704 - val_loss: 0.1568 - val_accuracy: 0.6968\n",
      "Epoch 59/60\n",
      "782/782 [==============================] - 5s 6ms/step - loss: 0.1589 - accuracy: 0.6703 - val_loss: 0.1572 - val_accuracy: 0.6930\n",
      "Epoch 60/60\n",
      "782/782 [==============================] - 5s 7ms/step - loss: 0.1580 - accuracy: 0.6745 - val_loss: 0.1562 - val_accuracy: 0.6957\n"
     ]
    },
    {
     "data": {
      "text/plain": [
       "<keras.callbacks.History at 0x7f7952790400>"
      ]
     },
     "execution_count": 97,
     "metadata": {},
     "output_type": "execute_result"
    }
   ],
   "source": [
    "model.fit(x=x_train,y=y_train_vec,epochs=60,batch_size=64,validation_data=(x_test,y_test_vec))"
   ]
  },
  {
   "cell_type": "code",
   "execution_count": null,
   "metadata": {
    "colab": {
     "base_uri": "https://localhost:8080/",
     "height": 283
    },
    "id": "_U6Q7NKnIsZQ",
    "outputId": "86243990-635b-4ca8-a017-5f8bd94f4867"
   },
   "outputs": [
    {
     "data": {
      "text/plain": [
       "<matplotlib.legend.Legend at 0x7f7952533970>"
      ]
     },
     "execution_count": 98,
     "metadata": {},
     "output_type": "execute_result"
    },
    {
     "data": {
      "image/png": "[encoded data removed]",
      "text/plain": [
       "<Figure size 432x288 with 1 Axes>"
      ]
     },
     "metadata": {
      "needs_background": "light"
     },
     "output_type": "display_data"
    }
   ],
   "source": [
    "losses = pd.DataFrame(model.history.history)\n",
    "plt.plot(losses['accuracy'],label='Train Accuracy')\n",
    "plt.plot(losses['val_accuracy'],label='Validation Accuracy')\n",
    "plt.legend()"
   ]
  },
  {
   "cell_type": "code",
   "execution_count": null,
   "metadata": {
    "colab": {
     "base_uri": "https://localhost:8080/",
     "height": 283
    },
    "id": "u-34DjwuIsyj",
    "outputId": "eec1e95a-8681-4d63-d998-d64f58c84603"
   },
   "outputs": [
    {
     "data": {
      "text/plain": [
       "[<matplotlib.lines.Line2D at 0x7f79524a93a0>]"
      ]
     },
     "execution_count": 99,
     "metadata": {},
     "output_type": "execute_result"
    },
    {
     "data": {
      "image/png": "[encoded data removed]",
      "text/plain": [
       "<Figure size 432x288 with 1 Axes>"
      ]
     },
     "metadata": {
      "needs_background": "light"
     },
     "output_type": "display_data"
    }
   ],
   "source": [
    "plt.plot(losses['loss'],label='Training Loss')\n",
    "plt.plot(losses['val_loss'],label='Validation Loss')"
   ]
  },
  {
   "cell_type": "code",
   "execution_count": 17,
   "metadata": {
    "colab": {
     "base_uri": "https://localhost:8080/"
    },
    "id": "NhvSiKszJoBE",
    "outputId": "63ba984a-bad7-47f0-c6d9-d054aa4f1a2b"
   },
   "outputs": [],
   "source": [
    "# Evaluate your model performance (testing accuracy) on testing data. Here, the validation accuracy is ~69% and the \n",
    "# training accuracy is ~67%. This indicates that the model is generalizing quite well. Additonally, the validation and \n",
    "# training loss are nearly identical which suggests that the model is not overfitting.\n",
    "acc_score = model.evaluate(x_test,y_test_vec)"
   ]
  },
  {
   "cell_type": "code",
   "execution_count": null,
   "metadata": {
    "colab": {
     "base_uri": "https://localhost:8080/",
     "height": 87
    },
    "id": "YNM5QBmQOTXi",
    "outputId": "6fcaa818-ff0a-4c44-b3c0-324765018d61"
   },
   "outputs": [
    {
     "data": {
      "application/vnd.google.colaboratory.intrinsic+json": {
       "type": "string"
      },
      "text/plain": [
       "\"from keras.preprocessing.image import ImageDataGenerator\\ndatagen = ImageDataGenerator(\\n    featurewise_center=True,\\n    featurewise_std_normalization=True,\\n    rotation_range=10,\\n    fill_mode='nearest',\\n    validation_split=0.2\\n)\\n\\ndatagen.fit(x_tr)\\n\\ntrain_generator = datagen.flow(x_tr,y_tr,batch_size=60,subset='training')\\nvalidation_generator = datagen.flow(x_tr,y_tr,batch_size=60,subset='validation')\\n\\nhistory = model.fit_generator( generator=train_generator,\\n                              validation_data=validation_generator,\\n                              use_multiprocessing=True,\\n                              steps_per_epoch=len(train_generator)/60,\\n                              validation_steps=len(validation_generator)/60,\\n                              epochs = 60,\\n                              workers = -1)\""
      ]
     },
     "execution_count": 39,
     "metadata": {},
     "output_type": "execute_result"
    }
   ],
   "source": [
    "\"\"\"from keras.preprocessing.image import ImageDataGenerator\n",
    "datagen = ImageDataGenerator(\n",
    "    featurewise_center=True,\n",
    "    featurewise_std_normalization=True,\n",
    "    rotation_range=10,\n",
    "    fill_mode='nearest',\n",
    "    validation_split=0.2\n",
    ")\n",
    "\n",
    "datagen.fit(x_tr)\n",
    "\n",
    "train_generator = datagen.flow(x_tr,y_tr,batch_size=60,subset='training')\n",
    "validation_generator = datagen.flow(x_tr,y_tr,batch_size=60,subset='validation')\n",
    "\n",
    "history = model.fit_generator( generator=train_generator,\n",
    "                              validation_data=validation_generator,\n",
    "                              use_multiprocessing=True,\n",
    "                              steps_per_epoch=len(train_generator)/60,\n",
    "                              validation_steps=len(validation_generator)/60,\n",
    "                              epochs = 60,\n",
    "                              workers = -1)\"\"\""
   ]
  },
  {
   "cell_type": "code",
   "execution_count": 6,
   "metadata": {
    "id": "923-HmLo4gl9"
   },
   "outputs": [],
   "source": [
    "from keras.layers import Dropout\n",
    "model = Sequential()\n",
    "\n",
    "model.add(Conv2D(32,kernel_size=(3,3),input_shape=(32,32,3)))\n",
    "model.add(BatchNormalization())\n",
    "model.add(Activation('relu'))\n",
    "model.add(MaxPooling2D(pool_size=(2,2)))\n",
    "\n",
    "#model.add(Dropout(0.5))\n",
    "model.add(Conv2D(64,kernel_size=(4,4)))\n",
    "model.add(BatchNormalization())\n",
    "model.add(Activation('relu'))\n",
    "model.add(MaxPooling2D(pool_size=(2,2)))\n",
    "\n",
    "model.add(Flatten())\n",
    "model.add(Dropout(0.5))\n",
    "model.add(Dense(256))\n",
    "model.add(BatchNormalization())\n",
    "model.add(Activation('relu'))\n",
    "\n",
    "model.add(Dense(10))\n",
    "model.add(Activation('softmax'))"
   ]
  },
  {
   "cell_type": "code",
   "execution_count": 7,
   "metadata": {
    "id": "F0SKIUHT4hEb"
   },
   "outputs": [],
   "source": [
    "model.compile(optimizer=adam,loss='binary_crossentropy',metrics='accuracy')"
   ]
  },
  {
   "cell_type": "code",
   "execution_count": 8,
   "metadata": {
    "colab": {
     "base_uri": "https://localhost:8080/"
    },
    "id": "lymfWBpI4hfh",
    "outputId": "8a65d95c-88c5-411d-d12e-c28d7ba8aeea"
   },
   "outputs": [
    {
     "name": "stdout",
     "output_type": "stream",
     "text": [
      "Epoch 1/100\n",
      "782/782 [==============================] - 15s 7ms/step - loss: 0.6429 - accuracy: 0.1779 - val_loss: 0.5278 - val_accuracy: 0.3139\n",
      "Epoch 2/100\n",
      "782/782 [==============================] - 5s 6ms/step - loss: 0.4452 - accuracy: 0.2492 - val_loss: 0.4143 - val_accuracy: 0.3804\n",
      "Epoch 3/100\n",
      "782/782 [==============================] - 5s 6ms/step - loss: 0.3490 - accuracy: 0.3067 - val_loss: 0.3462 - val_accuracy: 0.4185\n",
      "Epoch 4/100\n",
      "782/782 [==============================] - 5s 6ms/step - loss: 0.3006 - accuracy: 0.3529 - val_loss: 0.3072 - val_accuracy: 0.4481\n",
      "Epoch 5/100\n",
      "782/782 [==============================] - 4s 6ms/step - loss: 0.2735 - accuracy: 0.3911 - val_loss: 0.2809 - val_accuracy: 0.4663\n",
      "Epoch 6/100\n",
      "782/782 [==============================] - 5s 6ms/step - loss: 0.2585 - accuracy: 0.4218 - val_loss: 0.2650 - val_accuracy: 0.4841\n",
      "Epoch 7/100\n",
      "782/782 [==============================] - 4s 6ms/step - loss: 0.2482 - accuracy: 0.4403 - val_loss: 0.2538 - val_accuracy: 0.4955\n",
      "Epoch 8/100\n",
      "782/782 [==============================] - 5s 6ms/step - loss: 0.2405 - accuracy: 0.4581 - val_loss: 0.2456 - val_accuracy: 0.5131\n",
      "Epoch 9/100\n",
      "782/782 [==============================] - 5s 7ms/step - loss: 0.2345 - accuracy: 0.4750 - val_loss: 0.2378 - val_accuracy: 0.5235\n",
      "Epoch 10/100\n",
      "782/782 [==============================] - 4s 6ms/step - loss: 0.2295 - accuracy: 0.4842 - val_loss: 0.2330 - val_accuracy: 0.5344\n",
      "Epoch 11/100\n",
      "782/782 [==============================] - 5s 6ms/step - loss: 0.2245 - accuracy: 0.4993 - val_loss: 0.2276 - val_accuracy: 0.5451\n",
      "Epoch 12/100\n",
      "782/782 [==============================] - 5s 6ms/step - loss: 0.2201 - accuracy: 0.5110 - val_loss: 0.2238 - val_accuracy: 0.5527\n",
      "Epoch 13/100\n",
      "782/782 [==============================] - 5s 6ms/step - loss: 0.2166 - accuracy: 0.5204 - val_loss: 0.2197 - val_accuracy: 0.5606\n",
      "Epoch 14/100\n",
      "782/782 [==============================] - 5s 7ms/step - loss: 0.2139 - accuracy: 0.5284 - val_loss: 0.2165 - val_accuracy: 0.5686\n",
      "Epoch 15/100\n",
      "782/782 [==============================] - 4s 6ms/step - loss: 0.2107 - accuracy: 0.5403 - val_loss: 0.2131 - val_accuracy: 0.5789\n",
      "Epoch 16/100\n",
      "782/782 [==============================] - 5s 6ms/step - loss: 0.2082 - accuracy: 0.5435 - val_loss: 0.2103 - val_accuracy: 0.5810\n",
      "Epoch 17/100\n",
      "782/782 [==============================] - 5s 6ms/step - loss: 0.2054 - accuracy: 0.5520 - val_loss: 0.2071 - val_accuracy: 0.5880\n",
      "Epoch 18/100\n",
      "782/782 [==============================] - 5s 6ms/step - loss: 0.2033 - accuracy: 0.5562 - val_loss: 0.2051 - val_accuracy: 0.5894\n",
      "Epoch 19/100\n",
      "782/782 [==============================] - 5s 6ms/step - loss: 0.2012 - accuracy: 0.5633 - val_loss: 0.2018 - val_accuracy: 0.5953\n",
      "Epoch 20/100\n",
      "782/782 [==============================] - 5s 6ms/step - loss: 0.1994 - accuracy: 0.5693 - val_loss: 0.1999 - val_accuracy: 0.5993\n",
      "Epoch 21/100\n",
      "782/782 [==============================] - 4s 6ms/step - loss: 0.1972 - accuracy: 0.5743 - val_loss: 0.1976 - val_accuracy: 0.6072\n",
      "Epoch 22/100\n",
      "782/782 [==============================] - 5s 7ms/step - loss: 0.1951 - accuracy: 0.5797 - val_loss: 0.1954 - val_accuracy: 0.6113\n",
      "Epoch 23/100\n",
      "782/782 [==============================] - 4s 6ms/step - loss: 0.1939 - accuracy: 0.5825 - val_loss: 0.1941 - val_accuracy: 0.6141\n",
      "Epoch 24/100\n",
      "782/782 [==============================] - 5s 7ms/step - loss: 0.1916 - accuracy: 0.5880 - val_loss: 0.1916 - val_accuracy: 0.6155\n",
      "Epoch 25/100\n",
      "782/782 [==============================] - 5s 6ms/step - loss: 0.1903 - accuracy: 0.5924 - val_loss: 0.1901 - val_accuracy: 0.6232\n",
      "Epoch 26/100\n",
      "782/782 [==============================] - 5s 6ms/step - loss: 0.1888 - accuracy: 0.5965 - val_loss: 0.1888 - val_accuracy: 0.6247\n",
      "Epoch 27/100\n",
      "782/782 [==============================] - 5s 6ms/step - loss: 0.1874 - accuracy: 0.5999 - val_loss: 0.1867 - val_accuracy: 0.6282\n",
      "Epoch 28/100\n",
      "782/782 [==============================] - 4s 6ms/step - loss: 0.1857 - accuracy: 0.6058 - val_loss: 0.1853 - val_accuracy: 0.6335\n",
      "Epoch 29/100\n",
      "782/782 [==============================] - 5s 6ms/step - loss: 0.1849 - accuracy: 0.6056 - val_loss: 0.1839 - val_accuracy: 0.6364\n",
      "Epoch 30/100\n",
      "782/782 [==============================] - 5s 6ms/step - loss: 0.1831 - accuracy: 0.6110 - val_loss: 0.1829 - val_accuracy: 0.6400\n",
      "Epoch 31/100\n",
      "782/782 [==============================] - 4s 5ms/step - loss: 0.1820 - accuracy: 0.6117 - val_loss: 0.1809 - val_accuracy: 0.6432\n",
      "Epoch 32/100\n",
      "782/782 [==============================] - 5s 7ms/step - loss: 0.1804 - accuracy: 0.6194 - val_loss: 0.1798 - val_accuracy: 0.6468\n",
      "Epoch 33/100\n",
      "782/782 [==============================] - 5s 6ms/step - loss: 0.1795 - accuracy: 0.6221 - val_loss: 0.1784 - val_accuracy: 0.6486\n",
      "Epoch 34/100\n",
      "782/782 [==============================] - 5s 6ms/step - loss: 0.1790 - accuracy: 0.6211 - val_loss: 0.1780 - val_accuracy: 0.6503\n",
      "Epoch 35/100\n",
      "782/782 [==============================] - 4s 6ms/step - loss: 0.1777 - accuracy: 0.6235 - val_loss: 0.1764 - val_accuracy: 0.6527\n",
      "Epoch 36/100\n",
      "782/782 [==============================] - 5s 6ms/step - loss: 0.1765 - accuracy: 0.6282 - val_loss: 0.1753 - val_accuracy: 0.6532\n",
      "Epoch 37/100\n",
      "782/782 [==============================] - 5s 6ms/step - loss: 0.1754 - accuracy: 0.6301 - val_loss: 0.1737 - val_accuracy: 0.6592\n",
      "Epoch 38/100\n",
      "782/782 [==============================] - 5s 6ms/step - loss: 0.1743 - accuracy: 0.6348 - val_loss: 0.1731 - val_accuracy: 0.6597\n",
      "Epoch 39/100\n",
      "782/782 [==============================] - 5s 6ms/step - loss: 0.1731 - accuracy: 0.6373 - val_loss: 0.1718 - val_accuracy: 0.6612\n",
      "Epoch 40/100\n",
      "782/782 [==============================] - 5s 6ms/step - loss: 0.1724 - accuracy: 0.6390 - val_loss: 0.1708 - val_accuracy: 0.6637\n",
      "Epoch 41/100\n",
      "782/782 [==============================] - 4s 5ms/step - loss: 0.1715 - accuracy: 0.6420 - val_loss: 0.1698 - val_accuracy: 0.6678\n",
      "Epoch 42/100\n",
      "782/782 [==============================] - 5s 6ms/step - loss: 0.1709 - accuracy: 0.6416 - val_loss: 0.1696 - val_accuracy: 0.6673\n",
      "Epoch 43/100\n",
      "782/782 [==============================] - 5s 6ms/step - loss: 0.1698 - accuracy: 0.6436 - val_loss: 0.1683 - val_accuracy: 0.6704\n",
      "Epoch 44/100\n",
      "782/782 [==============================] - 4s 5ms/step - loss: 0.1689 - accuracy: 0.6468 - val_loss: 0.1670 - val_accuracy: 0.6737\n",
      "Epoch 45/100\n",
      "782/782 [==============================] - 5s 6ms/step - loss: 0.1683 - accuracy: 0.6496 - val_loss: 0.1663 - val_accuracy: 0.6749\n",
      "Epoch 46/100\n",
      "782/782 [==============================] - 4s 6ms/step - loss: 0.1681 - accuracy: 0.6474 - val_loss: 0.1660 - val_accuracy: 0.6759\n",
      "Epoch 47/100\n",
      "782/782 [==============================] - 5s 6ms/step - loss: 0.1669 - accuracy: 0.6513 - val_loss: 0.1649 - val_accuracy: 0.6794\n",
      "Epoch 48/100\n",
      "782/782 [==============================] - 5s 6ms/step - loss: 0.1660 - accuracy: 0.6529 - val_loss: 0.1646 - val_accuracy: 0.6787\n",
      "Epoch 49/100\n",
      "782/782 [==============================] - 5s 6ms/step - loss: 0.1653 - accuracy: 0.6557 - val_loss: 0.1634 - val_accuracy: 0.6828\n",
      "Epoch 50/100\n",
      "782/782 [==============================] - 5s 7ms/step - loss: 0.1647 - accuracy: 0.6600 - val_loss: 0.1625 - val_accuracy: 0.6832\n",
      "Epoch 51/100\n",
      "782/782 [==============================] - 5s 6ms/step - loss: 0.1642 - accuracy: 0.6579 - val_loss: 0.1618 - val_accuracy: 0.6855\n",
      "Epoch 52/100\n",
      "782/782 [==============================] - 4s 6ms/step - loss: 0.1630 - accuracy: 0.6597 - val_loss: 0.1609 - val_accuracy: 0.6869\n",
      "Epoch 53/100\n",
      "782/782 [==============================] - 5s 7ms/step - loss: 0.1626 - accuracy: 0.6620 - val_loss: 0.1602 - val_accuracy: 0.6885\n",
      "Epoch 54/100\n",
      "782/782 [==============================] - 5s 6ms/step - loss: 0.1620 - accuracy: 0.6625 - val_loss: 0.1598 - val_accuracy: 0.6901\n",
      "Epoch 55/100\n",
      "782/782 [==============================] - 5s 6ms/step - loss: 0.1609 - accuracy: 0.6670 - val_loss: 0.1592 - val_accuracy: 0.6897\n",
      "Epoch 56/100\n",
      "782/782 [==============================] - 5s 6ms/step - loss: 0.1614 - accuracy: 0.6649 - val_loss: 0.1589 - val_accuracy: 0.6918\n",
      "Epoch 57/100\n",
      "782/782 [==============================] - 5s 6ms/step - loss: 0.1601 - accuracy: 0.6677 - val_loss: 0.1578 - val_accuracy: 0.6965\n",
      "Epoch 58/100\n",
      "782/782 [==============================] - 5s 6ms/step - loss: 0.1597 - accuracy: 0.6700 - val_loss: 0.1574 - val_accuracy: 0.6939\n",
      "Epoch 59/100\n",
      "782/782 [==============================] - 4s 6ms/step - loss: 0.1589 - accuracy: 0.6694 - val_loss: 0.1572 - val_accuracy: 0.6953\n",
      "Epoch 60/100\n",
      "782/782 [==============================] - 5s 7ms/step - loss: 0.1586 - accuracy: 0.6723 - val_loss: 0.1562 - val_accuracy: 0.6959\n",
      "Epoch 61/100\n",
      "782/782 [==============================] - 4s 6ms/step - loss: 0.1581 - accuracy: 0.6739 - val_loss: 0.1556 - val_accuracy: 0.6969\n",
      "Epoch 62/100\n",
      "782/782 [==============================] - 5s 6ms/step - loss: 0.1570 - accuracy: 0.6746 - val_loss: 0.1548 - val_accuracy: 0.6971\n",
      "Epoch 63/100\n",
      "782/782 [==============================] - 5s 7ms/step - loss: 0.1568 - accuracy: 0.6771 - val_loss: 0.1547 - val_accuracy: 0.6995\n",
      "Epoch 64/100\n",
      "782/782 [==============================] - 5s 6ms/step - loss: 0.1564 - accuracy: 0.6775 - val_loss: 0.1538 - val_accuracy: 0.7003\n",
      "Epoch 65/100\n",
      "782/782 [==============================] - 5s 6ms/step - loss: 0.1555 - accuracy: 0.6790 - val_loss: 0.1536 - val_accuracy: 0.7006\n",
      "Epoch 66/100\n",
      "782/782 [==============================] - 5s 6ms/step - loss: 0.1550 - accuracy: 0.6814 - val_loss: 0.1529 - val_accuracy: 0.7040\n",
      "Epoch 67/100\n",
      "782/782 [==============================] - 5s 6ms/step - loss: 0.1553 - accuracy: 0.6798 - val_loss: 0.1523 - val_accuracy: 0.7046\n",
      "Epoch 68/100\n",
      "782/782 [==============================] - 5s 6ms/step - loss: 0.1547 - accuracy: 0.6802 - val_loss: 0.1513 - val_accuracy: 0.7031\n",
      "Epoch 69/100\n",
      "782/782 [==============================] - 4s 6ms/step - loss: 0.1540 - accuracy: 0.6845 - val_loss: 0.1517 - val_accuracy: 0.7041\n",
      "Epoch 70/100\n",
      "782/782 [==============================] - 5s 6ms/step - loss: 0.1534 - accuracy: 0.6831 - val_loss: 0.1506 - val_accuracy: 0.7062\n",
      "Epoch 71/100\n",
      "782/782 [==============================] - 5s 6ms/step - loss: 0.1527 - accuracy: 0.6854 - val_loss: 0.1501 - val_accuracy: 0.7076\n",
      "Epoch 72/100\n",
      "782/782 [==============================] - 4s 6ms/step - loss: 0.1519 - accuracy: 0.6892 - val_loss: 0.1496 - val_accuracy: 0.7071\n",
      "Epoch 73/100\n",
      "782/782 [==============================] - 5s 6ms/step - loss: 0.1520 - accuracy: 0.6896 - val_loss: 0.1495 - val_accuracy: 0.7085\n",
      "Epoch 74/100\n",
      "782/782 [==============================] - 4s 6ms/step - loss: 0.1514 - accuracy: 0.6912 - val_loss: 0.1489 - val_accuracy: 0.7088\n",
      "Epoch 75/100\n",
      "782/782 [==============================] - 5s 6ms/step - loss: 0.1510 - accuracy: 0.6890 - val_loss: 0.1482 - val_accuracy: 0.7092\n",
      "Epoch 76/100\n",
      "782/782 [==============================] - 5s 7ms/step - loss: 0.1504 - accuracy: 0.6936 - val_loss: 0.1481 - val_accuracy: 0.7115\n",
      "Epoch 77/100\n",
      "782/782 [==============================] - 5s 6ms/step - loss: 0.1496 - accuracy: 0.6947 - val_loss: 0.1481 - val_accuracy: 0.7088\n",
      "Epoch 78/100\n",
      "782/782 [==============================] - 5s 6ms/step - loss: 0.1498 - accuracy: 0.6923 - val_loss: 0.1474 - val_accuracy: 0.7124\n",
      "Epoch 79/100\n",
      "782/782 [==============================] - 4s 6ms/step - loss: 0.1491 - accuracy: 0.6943 - val_loss: 0.1477 - val_accuracy: 0.7100\n",
      "Epoch 80/100\n",
      "782/782 [==============================] - 5s 6ms/step - loss: 0.1489 - accuracy: 0.6958 - val_loss: 0.1462 - val_accuracy: 0.7148\n",
      "Epoch 81/100\n",
      "782/782 [==============================] - 5s 6ms/step - loss: 0.1479 - accuracy: 0.6977 - val_loss: 0.1462 - val_accuracy: 0.7135\n",
      "Epoch 82/100\n",
      "782/782 [==============================] - 4s 6ms/step - loss: 0.1477 - accuracy: 0.6988 - val_loss: 0.1458 - val_accuracy: 0.7135\n",
      "Epoch 83/100\n",
      "782/782 [==============================] - 5s 6ms/step - loss: 0.1478 - accuracy: 0.6972 - val_loss: 0.1449 - val_accuracy: 0.7162\n",
      "Epoch 84/100\n",
      "782/782 [==============================] - 5s 6ms/step - loss: 0.1465 - accuracy: 0.7009 - val_loss: 0.1448 - val_accuracy: 0.7145\n",
      "Epoch 85/100\n",
      "782/782 [==============================] - 5s 6ms/step - loss: 0.1467 - accuracy: 0.7011 - val_loss: 0.1446 - val_accuracy: 0.7166\n",
      "Epoch 86/100\n",
      "782/782 [==============================] - 5s 7ms/step - loss: 0.1460 - accuracy: 0.7029 - val_loss: 0.1440 - val_accuracy: 0.7179\n",
      "Epoch 87/100\n",
      "782/782 [==============================] - 4s 6ms/step - loss: 0.1459 - accuracy: 0.7015 - val_loss: 0.1437 - val_accuracy: 0.7181\n",
      "Epoch 88/100\n",
      "782/782 [==============================] - 5s 6ms/step - loss: 0.1453 - accuracy: 0.7048 - val_loss: 0.1434 - val_accuracy: 0.7177\n",
      "Epoch 89/100\n",
      "782/782 [==============================] - 5s 6ms/step - loss: 0.1450 - accuracy: 0.7042 - val_loss: 0.1433 - val_accuracy: 0.7191\n",
      "Epoch 90/100\n",
      "782/782 [==============================] - 4s 6ms/step - loss: 0.1448 - accuracy: 0.7060 - val_loss: 0.1424 - val_accuracy: 0.7208\n",
      "Epoch 91/100\n",
      "782/782 [==============================] - 5s 7ms/step - loss: 0.1442 - accuracy: 0.7060 - val_loss: 0.1421 - val_accuracy: 0.7193\n",
      "Epoch 92/100\n",
      "782/782 [==============================] - 5s 6ms/step - loss: 0.1436 - accuracy: 0.7062 - val_loss: 0.1422 - val_accuracy: 0.7188\n",
      "Epoch 93/100\n",
      "782/782 [==============================] - 5s 6ms/step - loss: 0.1434 - accuracy: 0.7078 - val_loss: 0.1413 - val_accuracy: 0.7225\n",
      "Epoch 94/100\n",
      "782/782 [==============================] - 5s 6ms/step - loss: 0.1431 - accuracy: 0.7088 - val_loss: 0.1415 - val_accuracy: 0.7195\n",
      "Epoch 95/100\n",
      "782/782 [==============================] - 5s 6ms/step - loss: 0.1427 - accuracy: 0.7110 - val_loss: 0.1412 - val_accuracy: 0.7226\n",
      "Epoch 96/100\n",
      "782/782 [==============================] - 5s 7ms/step - loss: 0.1427 - accuracy: 0.7123 - val_loss: 0.1407 - val_accuracy: 0.7241\n",
      "Epoch 97/100\n",
      "782/782 [==============================] - 5s 6ms/step - loss: 0.1419 - accuracy: 0.7123 - val_loss: 0.1401 - val_accuracy: 0.7248\n",
      "Epoch 98/100\n",
      "782/782 [==============================] - 5s 6ms/step - loss: 0.1414 - accuracy: 0.7152 - val_loss: 0.1400 - val_accuracy: 0.7233\n",
      "Epoch 99/100\n",
      "782/782 [==============================] - 5s 6ms/step - loss: 0.1415 - accuracy: 0.7137 - val_loss: 0.1398 - val_accuracy: 0.7262\n",
      "Epoch 100/100\n",
      "782/782 [==============================] - 4s 6ms/step - loss: 0.1418 - accuracy: 0.7115 - val_loss: 0.1392 - val_accuracy: 0.7256\n"
     ]
    },
    {
     "data": {
      "text/plain": [
       "<keras.callbacks.History at 0x7f0e601d9f70>"
      ]
     },
     "execution_count": 8,
     "metadata": {},
     "output_type": "execute_result"
    }
   ],
   "source": [
    "model.fit(x=x_train,y=y_train_vec,epochs=100,batch_size=64,validation_data=(x_test,y_test_vec))"
   ]
  },
  {
   "cell_type": "code",
   "execution_count": 18,
   "metadata": {},
   "outputs": [],
   "source": [
    "# This iteration of the model completes 100 epochs and returns training accuracy of ~71% and validation accuracy of ~72%, \n",
    "# which further displays a model that is generalizing well and is not overfitting."
   ]
  },
  {
   "cell_type": "code",
   "execution_count": 10,
   "metadata": {
    "colab": {
     "base_uri": "https://localhost:8080/",
     "height": 282
    },
    "id": "a7H0wY304h9G",
    "outputId": "c7abead5-4656-48e7-f9e8-c61a02437d5e"
   },
   "outputs": [
    {
     "data": {
      "text/plain": [
       "<matplotlib.legend.Legend at 0x7f0e4e229340>"
      ]
     },
     "execution_count": 10,
     "metadata": {},
     "output_type": "execute_result"
    },
    {
     "data": {
      "image/png": "[encoded data removed]",
      "text/plain": [
       "<Figure size 432x288 with 1 Axes>"
      ]
     },
     "metadata": {
      "needs_background": "light"
     },
     "output_type": "display_data"
    }
   ],
   "source": [
    "import pandas as pd\n",
    "losses = pd.DataFrame(model.history.history)\n",
    "plt.plot(losses['accuracy'],label='Train Accuracy')\n",
    "plt.plot(losses['val_accuracy'],label='Validation Accuracy')\n",
    "plt.legend()"
   ]
  },
  {
   "cell_type": "code",
   "execution_count": 13,
   "metadata": {
    "colab": {
     "base_uri": "https://localhost:8080/",
     "height": 282
    },
    "id": "KVwfvYqR4iW5",
    "outputId": "511bb960-df47-441f-b82d-45e60ce21c7c"
   },
   "outputs": [
    {
     "data": {
      "text/plain": [
       "<matplotlib.legend.Legend at 0x7f0e4419f7f0>"
      ]
     },
     "execution_count": 13,
     "metadata": {},
     "output_type": "execute_result"
    },
    {
     "data": {
      "image/png": "[encoded data removed]",
      "text/plain": [
       "<Figure size 432x288 with 1 Axes>"
      ]
     },
     "metadata": {
      "needs_background": "light"
     },
     "output_type": "display_data"
    }
   ],
   "source": [
    "plt.plot(losses['loss'],label='Training Loss')\n",
    "plt.plot(losses['val_loss'],label='Validation Loss')\n",
    "plt.legend()"
   ]
  },
  {
   "cell_type": "code",
   "execution_count": 12,
   "metadata": {
    "colab": {
     "base_uri": "https://localhost:8080/"
    },
    "id": "1BljeIEZ4i7g",
    "outputId": "300a7250-5880-4ed9-9236-c84203fce2ae"
   },
   "outputs": [
    {
     "name": "stdout",
     "output_type": "stream",
     "text": [
      "313/313 [==============================] - 1s 3ms/step - loss: 0.1392 - accuracy: 0.7256\n"
     ]
    }
   ],
   "source": [
    "acc_score = model.evaluate(x_test,y_test_vec)"
   ]
  },
  {
   "cell_type": "code",
   "execution_count": 43,
   "metadata": {},
   "outputs": [],
   "source": [
    "from keras.layers import Dropout\n",
    "model = Sequential()\n",
    "\n",
    "model.add(Conv2D(32,kernel_size=(3,3),input_shape=(32,32,3)))\n",
    "model.add(BatchNormalization())\n",
    "model.add(Activation('relu'))\n",
    "model.add(MaxPooling2D(pool_size=(2,2)))\n",
    "\n",
    "#model.add(Dropout(0.5))\n",
    "model.add(Conv2D(64,kernel_size=(4,4)))\n",
    "model.add(BatchNormalization())\n",
    "model.add(Activation('relu'))\n",
    "model.add(MaxPooling2D(pool_size=(2,2)))\n",
    "\n",
    "model.add(Flatten())\n",
    "model.add(Dropout(0.5))\n",
    "model.add(Dense(256))\n",
    "model.add(BatchNormalization())\n",
    "model.add(Activation('relu'))\n",
    "\n",
    "model.add(Dense(10))\n",
    "model.add(Activation('softmax'))"
   ]
  },
  {
   "cell_type": "code",
   "execution_count": 44,
   "metadata": {},
   "outputs": [],
   "source": [
    "model.compile(optimizer=adam,loss='categorical_crossentropy',metrics='accuracy')"
   ]
  },
  {
   "cell_type": "code",
   "execution_count": 45,
   "metadata": {},
   "outputs": [
    {
     "name": "stdout",
     "output_type": "stream",
     "text": [
      "Epoch 1/60\n",
      "782/782 [==============================] - 41s 52ms/step - loss: 2.0990 - accuracy: 0.2486 - val_loss: 1.7588 - val_accuracy: 0.3765\n",
      "Epoch 2/60\n",
      "782/782 [==============================] - 42s 54ms/step - loss: 1.9252 - accuracy: 0.3032 - val_loss: 1.6656 - val_accuracy: 0.4112\n",
      "Epoch 3/60\n",
      "782/782 [==============================] - 41s 52ms/step - loss: 1.8626 - accuracy: 0.3260 - val_loss: 1.6054 - val_accuracy: 0.4308\n",
      "Epoch 4/60\n",
      "782/782 [==============================] - 41s 52ms/step - loss: 1.8181 - accuracy: 0.3418 - val_loss: 1.5669 - val_accuracy: 0.4416\n",
      "Epoch 5/60\n",
      "782/782 [==============================] - 41s 52ms/step - loss: 1.7887 - accuracy: 0.3497 - val_loss: 1.5429 - val_accuracy: 0.4524\n",
      "Epoch 6/60\n",
      "782/782 [==============================] - 42s 53ms/step - loss: 1.7527 - accuracy: 0.3628 - val_loss: 1.5093 - val_accuracy: 0.4599\n",
      "Epoch 7/60\n",
      "782/782 [==============================] - 40s 51ms/step - loss: 1.7268 - accuracy: 0.3736 - val_loss: 1.4878 - val_accuracy: 0.4691\n",
      "Epoch 8/60\n",
      "782/782 [==============================] - 40s 51ms/step - loss: 1.7033 - accuracy: 0.3808 - val_loss: 1.4621 - val_accuracy: 0.4765\n",
      "Epoch 9/60\n",
      "782/782 [==============================] - 39s 50ms/step - loss: 1.6830 - accuracy: 0.3892 - val_loss: 1.4458 - val_accuracy: 0.4817\n",
      "Epoch 10/60\n",
      "782/782 [==============================] - 38s 49ms/step - loss: 1.6670 - accuracy: 0.3959 - val_loss: 1.4354 - val_accuracy: 0.4849\n",
      "Epoch 11/60\n",
      "782/782 [==============================] - 43s 56ms/step - loss: 1.6534 - accuracy: 0.3990 - val_loss: 1.4277 - val_accuracy: 0.4878\n",
      "Epoch 12/60\n",
      "782/782 [==============================] - 46s 58ms/step - loss: 1.6421 - accuracy: 0.4072 - val_loss: 1.3959 - val_accuracy: 0.5005\n",
      "Epoch 13/60\n",
      "782/782 [==============================] - 47s 60ms/step - loss: 1.6221 - accuracy: 0.4131 - val_loss: 1.3919 - val_accuracy: 0.4990\n",
      "Epoch 14/60\n",
      "782/782 [==============================] - 42s 54ms/step - loss: 1.6100 - accuracy: 0.4185 - val_loss: 1.3879 - val_accuracy: 0.5030\n",
      "Epoch 15/60\n",
      "782/782 [==============================] - 40s 51ms/step - loss: 1.6013 - accuracy: 0.4185 - val_loss: 1.3748 - val_accuracy: 0.5062\n",
      "Epoch 16/60\n",
      "782/782 [==============================] - 41s 52ms/step - loss: 1.5831 - accuracy: 0.4258 - val_loss: 1.3748 - val_accuracy: 0.5054\n",
      "Epoch 17/60\n",
      "782/782 [==============================] - 41s 52ms/step - loss: 1.5779 - accuracy: 0.4280 - val_loss: 1.3655 - val_accuracy: 0.5110\n",
      "Epoch 18/60\n",
      "782/782 [==============================] - 37s 47ms/step - loss: 1.5694 - accuracy: 0.4353 - val_loss: 1.3461 - val_accuracy: 0.5183\n",
      "Epoch 19/60\n",
      "782/782 [==============================] - 40s 51ms/step - loss: 1.5597 - accuracy: 0.4344 - val_loss: 1.3427 - val_accuracy: 0.5175\n",
      "Epoch 20/60\n",
      "782/782 [==============================] - 49s 63ms/step - loss: 1.5469 - accuracy: 0.4375 - val_loss: 1.3293 - val_accuracy: 0.5221\n",
      "Epoch 21/60\n",
      "782/782 [==============================] - 46s 59ms/step - loss: 1.5416 - accuracy: 0.4443 - val_loss: 1.3347 - val_accuracy: 0.5195\n",
      "Epoch 22/60\n",
      "782/782 [==============================] - 41s 53ms/step - loss: 1.5320 - accuracy: 0.4480 - val_loss: 1.3203 - val_accuracy: 0.5258\n",
      "Epoch 23/60\n",
      "782/782 [==============================] - 40s 51ms/step - loss: 1.5199 - accuracy: 0.4512 - val_loss: 1.3201 - val_accuracy: 0.5258\n",
      "Epoch 24/60\n",
      "782/782 [==============================] - 40s 51ms/step - loss: 1.5130 - accuracy: 0.4544 - val_loss: 1.3039 - val_accuracy: 0.5313\n",
      "Epoch 25/60\n",
      "782/782 [==============================] - 40s 51ms/step - loss: 1.5074 - accuracy: 0.4528 - val_loss: 1.2981 - val_accuracy: 0.5342\n",
      "Epoch 26/60\n",
      "782/782 [==============================] - 41s 52ms/step - loss: 1.4955 - accuracy: 0.4613 - val_loss: 1.2869 - val_accuracy: 0.5367\n",
      "Epoch 27/60\n",
      "782/782 [==============================] - 39s 49ms/step - loss: 1.4924 - accuracy: 0.4600 - val_loss: 1.2949 - val_accuracy: 0.5350\n",
      "Epoch 28/60\n",
      "782/782 [==============================] - 41s 53ms/step - loss: 1.4873 - accuracy: 0.4655 - val_loss: 1.2738 - val_accuracy: 0.5422\n",
      "Epoch 29/60\n",
      "782/782 [==============================] - 43s 56ms/step - loss: 1.4713 - accuracy: 0.4697 - val_loss: 1.2714 - val_accuracy: 0.5460\n",
      "Epoch 30/60\n",
      "782/782 [==============================] - 40s 52ms/step - loss: 1.4756 - accuracy: 0.4685 - val_loss: 1.2705 - val_accuracy: 0.5441\n",
      "Epoch 31/60\n",
      "782/782 [==============================] - 39s 50ms/step - loss: 1.4635 - accuracy: 0.4752 - val_loss: 1.2631 - val_accuracy: 0.5485\n",
      "Epoch 32/60\n",
      "782/782 [==============================] - 37s 47ms/step - loss: 1.4595 - accuracy: 0.4760 - val_loss: 1.2663 - val_accuracy: 0.5466\n",
      "Epoch 33/60\n",
      "782/782 [==============================] - 39s 50ms/step - loss: 1.4554 - accuracy: 0.4734 - val_loss: 1.2557 - val_accuracy: 0.5499\n",
      "Epoch 34/60\n",
      "782/782 [==============================] - 38s 49ms/step - loss: 1.4477 - accuracy: 0.4819 - val_loss: 1.2353 - val_accuracy: 0.5560\n",
      "Epoch 35/60\n",
      "782/782 [==============================] - 39s 50ms/step - loss: 1.4410 - accuracy: 0.4801 - val_loss: 1.2610 - val_accuracy: 0.5452\n",
      "Epoch 36/60\n",
      "782/782 [==============================] - 41s 53ms/step - loss: 1.4393 - accuracy: 0.4834 - val_loss: 1.2330 - val_accuracy: 0.5568\n",
      "Epoch 37/60\n",
      "782/782 [==============================] - 45s 58ms/step - loss: 1.4268 - accuracy: 0.4870 - val_loss: 1.2526 - val_accuracy: 0.5529\n",
      "Epoch 38/60\n",
      "782/782 [==============================] - 44s 56ms/step - loss: 1.4261 - accuracy: 0.4865 - val_loss: 1.2356 - val_accuracy: 0.5574\n",
      "Epoch 39/60\n",
      "782/782 [==============================] - 40s 51ms/step - loss: 1.4221 - accuracy: 0.4865 - val_loss: 1.2176 - val_accuracy: 0.5640\n",
      "Epoch 40/60\n",
      "782/782 [==============================] - 39s 50ms/step - loss: 1.4179 - accuracy: 0.4907 - val_loss: 1.2267 - val_accuracy: 0.5596\n",
      "Epoch 41/60\n",
      "782/782 [==============================] - 41s 52ms/step - loss: 1.4140 - accuracy: 0.4940 - val_loss: 1.2319 - val_accuracy: 0.5584\n",
      "Epoch 42/60\n",
      "782/782 [==============================] - 41s 52ms/step - loss: 1.4013 - accuracy: 0.4985 - val_loss: 1.2154 - val_accuracy: 0.5651\n",
      "Epoch 43/60\n",
      "782/782 [==============================] - 43s 54ms/step - loss: 1.4019 - accuracy: 0.5011 - val_loss: 1.2141 - val_accuracy: 0.5665\n",
      "Epoch 44/60\n",
      "782/782 [==============================] - 49s 62ms/step - loss: 1.4007 - accuracy: 0.4979 - val_loss: 1.2132 - val_accuracy: 0.5652\n",
      "Epoch 45/60\n",
      "782/782 [==============================] - 47s 60ms/step - loss: 1.3977 - accuracy: 0.4988 - val_loss: 1.2099 - val_accuracy: 0.5697\n",
      "Epoch 46/60\n",
      "782/782 [==============================] - 43s 55ms/step - loss: 1.3871 - accuracy: 0.5030 - val_loss: 1.2070 - val_accuracy: 0.5676\n",
      "Epoch 47/60\n",
      "782/782 [==============================] - 38s 49ms/step - loss: 1.3816 - accuracy: 0.5039 - val_loss: 1.2080 - val_accuracy: 0.5679\n",
      "Epoch 48/60\n",
      "782/782 [==============================] - 39s 50ms/step - loss: 1.3906 - accuracy: 0.5033 - val_loss: 1.1843 - val_accuracy: 0.5756\n",
      "Epoch 49/60\n",
      "782/782 [==============================] - 41s 52ms/step - loss: 1.3746 - accuracy: 0.5056 - val_loss: 1.1956 - val_accuracy: 0.5715\n",
      "Epoch 50/60\n",
      "782/782 [==============================] - 42s 54ms/step - loss: 1.3704 - accuracy: 0.5107 - val_loss: 1.1996 - val_accuracy: 0.5703\n",
      "Epoch 51/60\n",
      "782/782 [==============================] - 45s 57ms/step - loss: 1.3718 - accuracy: 0.5076 - val_loss: 1.1856 - val_accuracy: 0.5742\n",
      "Epoch 52/60\n",
      "782/782 [==============================] - 50s 63ms/step - loss: 1.3710 - accuracy: 0.5051 - val_loss: 1.1862 - val_accuracy: 0.5750\n",
      "Epoch 53/60\n",
      "782/782 [==============================] - 45s 57ms/step - loss: 1.3675 - accuracy: 0.5084 - val_loss: 1.1717 - val_accuracy: 0.5807\n",
      "Epoch 54/60\n",
      "782/782 [==============================] - 39s 50ms/step - loss: 1.3620 - accuracy: 0.5142 - val_loss: 1.1864 - val_accuracy: 0.5772\n",
      "Epoch 55/60\n",
      "782/782 [==============================] - 39s 49ms/step - loss: 1.3581 - accuracy: 0.5159 - val_loss: 1.1694 - val_accuracy: 0.5814\n",
      "Epoch 56/60\n",
      "782/782 [==============================] - 39s 50ms/step - loss: 1.3588 - accuracy: 0.5146 - val_loss: 1.1513 - val_accuracy: 0.5888\n",
      "Epoch 57/60\n",
      "782/782 [==============================] - 41s 53ms/step - loss: 1.3538 - accuracy: 0.5147 - val_loss: 1.1822 - val_accuracy: 0.5770\n",
      "Epoch 58/60\n",
      "782/782 [==============================] - 41s 52ms/step - loss: 1.3436 - accuracy: 0.5217 - val_loss: 1.1607 - val_accuracy: 0.5883\n",
      "Epoch 59/60\n",
      "782/782 [==============================] - 44s 56ms/step - loss: 1.3434 - accuracy: 0.5188 - val_loss: 1.1769 - val_accuracy: 0.5808\n",
      "Epoch 60/60\n",
      "782/782 [==============================] - 44s 56ms/step - loss: 1.3393 - accuracy: 0.5199 - val_loss: 1.1617 - val_accuracy: 0.5864\n"
     ]
    },
    {
     "data": {
      "text/plain": [
       "<keras.callbacks.History at 0x2654bc66880>"
      ]
     },
     "execution_count": 45,
     "metadata": {},
     "output_type": "execute_result"
    }
   ],
   "source": [
    "from keras.preprocessing.image import ImageDataGenerator\n",
    "\n",
    "datagen = ImageDataGenerator(\n",
    "    rotation_range=20,\n",
    "    width_shift_range=0.2,\n",
    "    height_shift_range=0.2,\n",
    "    shear_range=0.2,\n",
    "    zoom_range=0.2,\n",
    "    horizontal_flip=True,\n",
    "    fill_mode='nearest')\n",
    "\n",
    "datagen.fit(x_train)\n",
    "\n",
    "model.fit(datagen.flow(x_train, y_train_vec, batch_size=64), epochs=60,validation_data=(x_test,y_test_vec))\n",
    "\n"
   ]
  },
  {
   "cell_type": "code",
   "execution_count": 49,
   "metadata": {},
   "outputs": [],
   "source": [
    "#The last model test included data augmentation. The data augmentation model failed to outperform the model that incoroporated\n",
    "#batch normalization and drop out layers. "
   ]
  },
  {
   "cell_type": "code",
   "execution_count": 47,
   "metadata": {},
   "outputs": [
    {
     "data": {
      "text/plain": [
       "<matplotlib.legend.Legend at 0x2654b544370>"
      ]
     },
     "execution_count": 47,
     "metadata": {},
     "output_type": "execute_result"
    },
    {
     "data": {
      "image/png": "[encoded data removed]",
      "text/plain": [
       "<Figure size 432x288 with 1 Axes>"
      ]
     },
     "metadata": {
      "needs_background": "light"
     },
     "output_type": "display_data"
    }
   ],
   "source": [
    "import pandas as pd\n",
    "losses = pd.DataFrame(model.history.history)\n",
    "plt.plot(losses['accuracy'],label='Train Accuracy')\n",
    "plt.plot(losses['val_accuracy'],label='Validation Accuracy')\n",
    "plt.legend()"
   ]
  },
  {
   "cell_type": "code",
   "execution_count": 48,
   "metadata": {},
   "outputs": [
    {
     "data": {
      "text/plain": [
       "<matplotlib.legend.Legend at 0x264f42b4430>"
      ]
     },
     "execution_count": 48,
     "metadata": {},
     "output_type": "execute_result"
    },
    {
     "data": {
      "image/png": "[encoded data removed]",
      "text/plain": [
       "<Figure size 432x288 with 1 Axes>"
      ]
     },
     "metadata": {
      "needs_background": "light"
     },
     "output_type": "display_data"
    }
   ],
   "source": [
    "plt.plot(losses['loss'],label='Training Loss')\n",
    "plt.plot(losses['val_loss'],label='Validation Loss')\n",
    "plt.legend()"
   ]
  },
  {
   "cell_type": "code",
   "execution_count": null,
   "metadata": {},
   "outputs": [],
   "source": []
  }
 ],
 "metadata": {
  "accelerator": "GPU",
  "colab": {
   "provenance": []
  },
  "gpuClass": "standard",
  "kernelspec": {
   "display_name": "Python 3 (ipykernel)",
   "language": "python",
   "name": "python3"
  },
  "language_info": {
   "codemirror_mode": {
    "name": "ipython",
    "version": 3
   },
   "file_extension": ".py",
   "mimetype": "text/x-python",
   "name": "python",
   "nbconvert_exporter": "python",
   "pygments_lexer": "ipython3",
   "version": "3.9.7"
  }
 },
 "nbformat": 4,
 "nbformat_minor": 1
}
